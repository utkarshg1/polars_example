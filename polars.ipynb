{
 "cells": [
  {
   "cell_type": "markdown",
   "metadata": {},
   "source": [
    "# Polars Library Python for data analysis\n"
   ]
  },
  {
   "cell_type": "markdown",
   "metadata": {},
   "source": [
    "### Reading Excel file\n"
   ]
  },
  {
   "cell_type": "code",
   "execution_count": 2,
   "metadata": {},
   "outputs": [],
   "source": [
    "import polars as pl"
   ]
  },
  {
   "cell_type": "code",
   "execution_count": 3,
   "metadata": {},
   "outputs": [
    {
     "data": {
      "text/html": [
       "<div><style>\n",
       ".dataframe > thead > tr,\n",
       ".dataframe > tbody > tr {\n",
       "  text-align: right;\n",
       "  white-space: pre-wrap;\n",
       "}\n",
       "</style>\n",
       "<small>shape: (5, 21)</small><table border=\"1\" class=\"dataframe\"><thead><tr><th>Row ID</th><th>Order ID</th><th>Order Date</th><th>Ship Date</th><th>Ship Mode</th><th>Customer ID</th><th>Customer Name</th><th>Segment</th><th>Country</th><th>City</th><th>State</th><th>Postal Code</th><th>Region</th><th>Product ID</th><th>Category</th><th>Sub-Category</th><th>Product Name</th><th>Sales</th><th>Quantity</th><th>Discount</th><th>Profit</th></tr><tr><td>i64</td><td>str</td><td>date</td><td>date</td><td>str</td><td>str</td><td>str</td><td>str</td><td>str</td><td>str</td><td>str</td><td>i64</td><td>str</td><td>str</td><td>str</td><td>str</td><td>str</td><td>f64</td><td>i64</td><td>f64</td><td>f64</td></tr></thead><tbody><tr><td>1</td><td>&quot;CA-2016-152156&quot;</td><td>2016-11-08</td><td>2016-11-11</td><td>&quot;Second Class&quot;</td><td>&quot;CG-12520&quot;</td><td>&quot;Claire Gute&quot;</td><td>&quot;Consumer&quot;</td><td>&quot;United States&quot;</td><td>&quot;Henderson&quot;</td><td>&quot;Kentucky&quot;</td><td>42420</td><td>&quot;South&quot;</td><td>&quot;FUR-BO-10001798&quot;</td><td>&quot;Furniture&quot;</td><td>&quot;Bookcases&quot;</td><td>&quot;Bush Somerset Collection Bookc…</td><td>261.96</td><td>2</td><td>0.0</td><td>41.9136</td></tr><tr><td>2</td><td>&quot;CA-2016-152156&quot;</td><td>2016-11-08</td><td>2016-11-11</td><td>&quot;Second Class&quot;</td><td>&quot;CG-12520&quot;</td><td>&quot;Claire Gute&quot;</td><td>&quot;Consumer&quot;</td><td>&quot;United States&quot;</td><td>&quot;Henderson&quot;</td><td>&quot;Kentucky&quot;</td><td>42420</td><td>&quot;South&quot;</td><td>&quot;FUR-CH-10000454&quot;</td><td>&quot;Furniture&quot;</td><td>&quot;Chairs&quot;</td><td>&quot;Hon Deluxe Fabric Upholstered …</td><td>731.94</td><td>3</td><td>0.0</td><td>219.582</td></tr><tr><td>3</td><td>&quot;CA-2016-138688&quot;</td><td>2016-06-12</td><td>2016-06-16</td><td>&quot;Second Class&quot;</td><td>&quot;DV-13045&quot;</td><td>&quot;Darrin Van Huff&quot;</td><td>&quot;Corporate&quot;</td><td>&quot;United States&quot;</td><td>&quot;Los Angeles&quot;</td><td>&quot;California&quot;</td><td>90036</td><td>&quot;West&quot;</td><td>&quot;OFF-LA-10000240&quot;</td><td>&quot;Office Supplies&quot;</td><td>&quot;Labels&quot;</td><td>&quot;Self-Adhesive Address Labels f…</td><td>14.62</td><td>2</td><td>0.0</td><td>6.8714</td></tr><tr><td>4</td><td>&quot;US-2015-108966&quot;</td><td>2015-10-11</td><td>2015-10-18</td><td>&quot;Standard Class&quot;</td><td>&quot;SO-20335&quot;</td><td>&quot;Sean O&#x27;Donnell&quot;</td><td>&quot;Consumer&quot;</td><td>&quot;United States&quot;</td><td>&quot;Fort Lauderdale&quot;</td><td>&quot;Florida&quot;</td><td>33311</td><td>&quot;South&quot;</td><td>&quot;FUR-TA-10000577&quot;</td><td>&quot;Furniture&quot;</td><td>&quot;Tables&quot;</td><td>&quot;Bretford CR4500 Series Slim Re…</td><td>957.5775</td><td>5</td><td>0.45</td><td>-383.031</td></tr><tr><td>5</td><td>&quot;US-2015-108966&quot;</td><td>2015-10-11</td><td>2015-10-18</td><td>&quot;Standard Class&quot;</td><td>&quot;SO-20335&quot;</td><td>&quot;Sean O&#x27;Donnell&quot;</td><td>&quot;Consumer&quot;</td><td>&quot;United States&quot;</td><td>&quot;Fort Lauderdale&quot;</td><td>&quot;Florida&quot;</td><td>33311</td><td>&quot;South&quot;</td><td>&quot;OFF-ST-10000760&quot;</td><td>&quot;Office Supplies&quot;</td><td>&quot;Storage&quot;</td><td>&quot;Eldon Fold &#x27;N Roll Cart System&quot;</td><td>22.368</td><td>2</td><td>0.2</td><td>2.5164</td></tr></tbody></table></div>"
      ],
      "text/plain": [
       "shape: (5, 21)\n",
       "┌────────┬───────────────┬────────────┬────────────┬───┬──────────┬──────────┬──────────┬──────────┐\n",
       "│ Row ID ┆ Order ID      ┆ Order Date ┆ Ship Date  ┆ … ┆ Sales    ┆ Quantity ┆ Discount ┆ Profit   │\n",
       "│ ---    ┆ ---           ┆ ---        ┆ ---        ┆   ┆ ---      ┆ ---      ┆ ---      ┆ ---      │\n",
       "│ i64    ┆ str           ┆ date       ┆ date       ┆   ┆ f64      ┆ i64      ┆ f64      ┆ f64      │\n",
       "╞════════╪═══════════════╪════════════╪════════════╪═══╪══════════╪══════════╪══════════╪══════════╡\n",
       "│ 1      ┆ CA-2016-15215 ┆ 2016-11-08 ┆ 2016-11-11 ┆ … ┆ 261.96   ┆ 2        ┆ 0.0      ┆ 41.9136  │\n",
       "│        ┆ 6             ┆            ┆            ┆   ┆          ┆          ┆          ┆          │\n",
       "│ 2      ┆ CA-2016-15215 ┆ 2016-11-08 ┆ 2016-11-11 ┆ … ┆ 731.94   ┆ 3        ┆ 0.0      ┆ 219.582  │\n",
       "│        ┆ 6             ┆            ┆            ┆   ┆          ┆          ┆          ┆          │\n",
       "│ 3      ┆ CA-2016-13868 ┆ 2016-06-12 ┆ 2016-06-16 ┆ … ┆ 14.62    ┆ 2        ┆ 0.0      ┆ 6.8714   │\n",
       "│        ┆ 8             ┆            ┆            ┆   ┆          ┆          ┆          ┆          │\n",
       "│ 4      ┆ US-2015-10896 ┆ 2015-10-11 ┆ 2015-10-18 ┆ … ┆ 957.5775 ┆ 5        ┆ 0.45     ┆ -383.031 │\n",
       "│        ┆ 6             ┆            ┆            ┆   ┆          ┆          ┆          ┆          │\n",
       "│ 5      ┆ US-2015-10896 ┆ 2015-10-11 ┆ 2015-10-18 ┆ … ┆ 22.368   ┆ 2        ┆ 0.2      ┆ 2.5164   │\n",
       "│        ┆ 6             ┆            ┆            ┆   ┆          ┆          ┆          ┆          │\n",
       "└────────┴───────────────┴────────────┴────────────┴───┴──────────┴──────────┴──────────┴──────────┘"
      ]
     },
     "execution_count": 3,
     "metadata": {},
     "output_type": "execute_result"
    }
   ],
   "source": [
    "df = pl.read_excel(\"Sample - Superstore.xls\", sheet_name=\"Orders\")\n",
    "df.head()"
   ]
  },
  {
   "cell_type": "code",
   "execution_count": 4,
   "metadata": {},
   "outputs": [
    {
     "data": {
      "text/plain": [
       "Schema([('Row ID', Int64),\n",
       "        ('Order ID', String),\n",
       "        ('Order Date', Date),\n",
       "        ('Ship Date', Date),\n",
       "        ('Ship Mode', String),\n",
       "        ('Customer ID', String),\n",
       "        ('Customer Name', String),\n",
       "        ('Segment', String),\n",
       "        ('Country', String),\n",
       "        ('City', String),\n",
       "        ('State', String),\n",
       "        ('Postal Code', Int64),\n",
       "        ('Region', String),\n",
       "        ('Product ID', String),\n",
       "        ('Category', String),\n",
       "        ('Sub-Category', String),\n",
       "        ('Product Name', String),\n",
       "        ('Sales', Float64),\n",
       "        ('Quantity', Int64),\n",
       "        ('Discount', Float64),\n",
       "        ('Profit', Float64)])"
      ]
     },
     "execution_count": 4,
     "metadata": {},
     "output_type": "execute_result"
    }
   ],
   "source": [
    "df.schema"
   ]
  },
  {
   "cell_type": "markdown",
   "metadata": {},
   "source": [
    "### Monthly profit\n"
   ]
  },
  {
   "cell_type": "code",
   "execution_count": 5,
   "metadata": {},
   "outputs": [],
   "source": [
    "a = (\n",
    "    df.group_by(\n",
    "        pl.col(\"Order Date\").dt.year().alias(\"order_year\"),\n",
    "        pl.col(\"Order Date\").dt.month().alias(\"order_month\"),\n",
    "    )\n",
    "    .agg(pl.col(\"Profit\").sum().round(2).alias(\"total_profit\"))\n",
    "    .sort([pl.col(\"order_year\"), pl.col(\"order_month\")])\n",
    ")"
   ]
  },
  {
   "cell_type": "code",
   "execution_count": 6,
   "metadata": {},
   "outputs": [
    {
     "data": {
      "text/html": [
       "<div><style>\n",
       ".dataframe > thead > tr,\n",
       ".dataframe > tbody > tr {\n",
       "  text-align: right;\n",
       "  white-space: pre-wrap;\n",
       "}\n",
       "</style>\n",
       "<small>shape: (48, 3)</small><table border=\"1\" class=\"dataframe\"><thead><tr><th>order_year</th><th>order_month</th><th>total_profit</th></tr><tr><td>i32</td><td>i8</td><td>f64</td></tr></thead><tbody><tr><td>2014</td><td>1</td><td>2450.19</td></tr><tr><td>2014</td><td>2</td><td>862.31</td></tr><tr><td>2014</td><td>3</td><td>498.73</td></tr><tr><td>2014</td><td>4</td><td>3488.84</td></tr><tr><td>2014</td><td>5</td><td>2738.71</td></tr><tr><td>&hellip;</td><td>&hellip;</td><td>&hellip;</td></tr><tr><td>2017</td><td>8</td><td>9040.96</td></tr><tr><td>2017</td><td>9</td><td>10991.56</td></tr><tr><td>2017</td><td>10</td><td>9275.28</td></tr><tr><td>2017</td><td>11</td><td>9690.1</td></tr><tr><td>2017</td><td>12</td><td>8483.35</td></tr></tbody></table></div>"
      ],
      "text/plain": [
       "shape: (48, 3)\n",
       "┌────────────┬─────────────┬──────────────┐\n",
       "│ order_year ┆ order_month ┆ total_profit │\n",
       "│ ---        ┆ ---         ┆ ---          │\n",
       "│ i32        ┆ i8          ┆ f64          │\n",
       "╞════════════╪═════════════╪══════════════╡\n",
       "│ 2014       ┆ 1           ┆ 2450.19      │\n",
       "│ 2014       ┆ 2           ┆ 862.31       │\n",
       "│ 2014       ┆ 3           ┆ 498.73       │\n",
       "│ 2014       ┆ 4           ┆ 3488.84      │\n",
       "│ 2014       ┆ 5           ┆ 2738.71      │\n",
       "│ …          ┆ …           ┆ …            │\n",
       "│ 2017       ┆ 8           ┆ 9040.96      │\n",
       "│ 2017       ┆ 9           ┆ 10991.56     │\n",
       "│ 2017       ┆ 10          ┆ 9275.28      │\n",
       "│ 2017       ┆ 11          ┆ 9690.1       │\n",
       "│ 2017       ┆ 12          ┆ 8483.35      │\n",
       "└────────────┴─────────────┴──────────────┘"
      ]
     },
     "execution_count": 6,
     "metadata": {},
     "output_type": "execute_result"
    }
   ],
   "source": [
    "a"
   ]
  },
  {
   "cell_type": "code",
   "execution_count": 7,
   "metadata": {},
   "outputs": [],
   "source": [
    "a.write_csv(\"monthly_profit.csv\")"
   ]
  },
  {
   "cell_type": "code",
   "execution_count": 8,
   "metadata": {},
   "outputs": [],
   "source": [
    "import altair as alt"
   ]
  },
  {
   "cell_type": "code",
   "execution_count": 9,
   "metadata": {},
   "outputs": [
    {
     "data": {
      "text/html": [
       "\n",
       "<style>\n",
       "  #altair-viz-891a660a39104a40b5949e6ca499550a.vega-embed {\n",
       "    width: 100%;\n",
       "    display: flex;\n",
       "  }\n",
       "\n",
       "  #altair-viz-891a660a39104a40b5949e6ca499550a.vega-embed details,\n",
       "  #altair-viz-891a660a39104a40b5949e6ca499550a.vega-embed details summary {\n",
       "    position: relative;\n",
       "  }\n",
       "</style>\n",
       "<div id=\"altair-viz-891a660a39104a40b5949e6ca499550a\"></div>\n",
       "<script type=\"text/javascript\">\n",
       "  var VEGA_DEBUG = (typeof VEGA_DEBUG == \"undefined\") ? {} : VEGA_DEBUG;\n",
       "  (function(spec, embedOpt){\n",
       "    let outputDiv = document.currentScript.previousElementSibling;\n",
       "    if (outputDiv.id !== \"altair-viz-891a660a39104a40b5949e6ca499550a\") {\n",
       "      outputDiv = document.getElementById(\"altair-viz-891a660a39104a40b5949e6ca499550a\");\n",
       "    }\n",
       "\n",
       "    const paths = {\n",
       "      \"vega\": \"https://cdn.jsdelivr.net/npm/vega@5?noext\",\n",
       "      \"vega-lib\": \"https://cdn.jsdelivr.net/npm/vega-lib?noext\",\n",
       "      \"vega-lite\": \"https://cdn.jsdelivr.net/npm/vega-lite@5.20.1?noext\",\n",
       "      \"vega-embed\": \"https://cdn.jsdelivr.net/npm/vega-embed@6?noext\",\n",
       "    };\n",
       "\n",
       "    function maybeLoadScript(lib, version) {\n",
       "      var key = `${lib.replace(\"-\", \"\")}_version`;\n",
       "      return (VEGA_DEBUG[key] == version) ?\n",
       "        Promise.resolve(paths[lib]) :\n",
       "        new Promise(function(resolve, reject) {\n",
       "          var s = document.createElement('script');\n",
       "          document.getElementsByTagName(\"head\")[0].appendChild(s);\n",
       "          s.async = true;\n",
       "          s.onload = () => {\n",
       "            VEGA_DEBUG[key] = version;\n",
       "            return resolve(paths[lib]);\n",
       "          };\n",
       "          s.onerror = () => reject(`Error loading script: ${paths[lib]}`);\n",
       "          s.src = paths[lib];\n",
       "        });\n",
       "    }\n",
       "\n",
       "    function showError(err) {\n",
       "      outputDiv.innerHTML = `<div class=\"error\" style=\"color:red;\">${err}</div>`;\n",
       "      throw err;\n",
       "    }\n",
       "\n",
       "    function displayChart(vegaEmbed) {\n",
       "      vegaEmbed(outputDiv, spec, embedOpt)\n",
       "        .catch(err => showError(`Javascript Error: ${err.message}<br>This usually means there's a typo in your chart specification. See the javascript console for the full traceback.`));\n",
       "    }\n",
       "\n",
       "    if(typeof define === \"function\" && define.amd) {\n",
       "      requirejs.config({paths});\n",
       "      let deps = [\"vega-embed\"];\n",
       "      require(deps, displayChart, err => showError(`Error loading script: ${err.message}`));\n",
       "    } else {\n",
       "      maybeLoadScript(\"vega\", \"5\")\n",
       "        .then(() => maybeLoadScript(\"vega-lite\", \"5.20.1\"))\n",
       "        .then(() => maybeLoadScript(\"vega-embed\", \"6\"))\n",
       "        .catch(showError)\n",
       "        .then(() => displayChart(vegaEmbed));\n",
       "    }\n",
       "  })({\"config\": {\"view\": {\"continuousWidth\": 300, \"continuousHeight\": 300}}, \"data\": {\"name\": \"data-9c299db39fb4b7f08791e56c5029aadb\"}, \"mark\": {\"type\": \"line\", \"tooltip\": true}, \"encoding\": {\"color\": {\"field\": \"order_year\", \"legend\": {\"title\": \"Year\"}, \"scale\": {\"scheme\": \"category10\"}, \"type\": \"nominal\"}, \"x\": {\"field\": \"order_month\", \"type\": \"quantitative\"}, \"y\": {\"field\": \"total_profit\", \"type\": \"quantitative\"}}, \"height\": 600, \"params\": [{\"name\": \"param_1\", \"select\": {\"type\": \"interval\", \"encodings\": [\"x\", \"y\"]}, \"bind\": \"scales\"}], \"width\": 1000, \"$schema\": \"https://vega.github.io/schema/vega-lite/v5.20.1.json\", \"datasets\": {\"data-9c299db39fb4b7f08791e56c5029aadb\": [{\"order_year\": 2014, \"order_month\": 1, \"total_profit\": 2450.19}, {\"order_year\": 2014, \"order_month\": 2, \"total_profit\": 862.31}, {\"order_year\": 2014, \"order_month\": 3, \"total_profit\": 498.73}, {\"order_year\": 2014, \"order_month\": 4, \"total_profit\": 3488.84}, {\"order_year\": 2014, \"order_month\": 5, \"total_profit\": 2738.71}, {\"order_year\": 2014, \"order_month\": 6, \"total_profit\": 4976.52}, {\"order_year\": 2014, \"order_month\": 7, \"total_profit\": -841.48}, {\"order_year\": 2014, \"order_month\": 8, \"total_profit\": 5318.11}, {\"order_year\": 2014, \"order_month\": 9, \"total_profit\": 8328.1}, {\"order_year\": 2014, \"order_month\": 10, \"total_profit\": 3448.26}, {\"order_year\": 2014, \"order_month\": 11, \"total_profit\": 9292.13}, {\"order_year\": 2014, \"order_month\": 12, \"total_profit\": 8983.57}, {\"order_year\": 2015, \"order_month\": 1, \"total_profit\": -3281.01}, {\"order_year\": 2015, \"order_month\": 2, \"total_profit\": 2813.85}, {\"order_year\": 2015, \"order_month\": 3, \"total_profit\": 9732.1}, {\"order_year\": 2015, \"order_month\": 4, \"total_profit\": 4187.5}, {\"order_year\": 2015, \"order_month\": 5, \"total_profit\": 4667.87}, {\"order_year\": 2015, \"order_month\": 6, \"total_profit\": 3335.56}, {\"order_year\": 2015, \"order_month\": 7, \"total_profit\": 3288.65}, {\"order_year\": 2015, \"order_month\": 8, \"total_profit\": 5355.81}, {\"order_year\": 2015, \"order_month\": 9, \"total_profit\": 8209.16}, {\"order_year\": 2015, \"order_month\": 10, \"total_profit\": 2817.37}, {\"order_year\": 2015, \"order_month\": 11, \"total_profit\": 12474.79}, {\"order_year\": 2015, \"order_month\": 12, \"total_profit\": 8016.97}, {\"order_year\": 2016, \"order_month\": 1, \"total_profit\": 2824.82}, {\"order_year\": 2016, \"order_month\": 2, \"total_profit\": 5004.58}, {\"order_year\": 2016, \"order_month\": 3, \"total_profit\": 3611.97}, {\"order_year\": 2016, \"order_month\": 4, \"total_profit\": 2977.81}, {\"order_year\": 2016, \"order_month\": 5, \"total_profit\": 8662.15}, {\"order_year\": 2016, \"order_month\": 6, \"total_profit\": 4750.38}, {\"order_year\": 2016, \"order_month\": 7, \"total_profit\": 4432.88}, {\"order_year\": 2016, \"order_month\": 8, \"total_profit\": 2062.07}, {\"order_year\": 2016, \"order_month\": 9, \"total_profit\": 9328.66}, {\"order_year\": 2016, \"order_month\": 10, \"total_profit\": 16243.14}, {\"order_year\": 2016, \"order_month\": 11, \"total_profit\": 4011.41}, {\"order_year\": 2016, \"order_month\": 12, \"total_profit\": 17885.31}, {\"order_year\": 2017, \"order_month\": 1, \"total_profit\": 7140.44}, {\"order_year\": 2017, \"order_month\": 2, \"total_profit\": 1613.87}, {\"order_year\": 2017, \"order_month\": 3, \"total_profit\": 14751.89}, {\"order_year\": 2017, \"order_month\": 4, \"total_profit\": 933.29}, {\"order_year\": 2017, \"order_month\": 5, \"total_profit\": 6342.58}, {\"order_year\": 2017, \"order_month\": 6, \"total_profit\": 8223.34}, {\"order_year\": 2017, \"order_month\": 7, \"total_profit\": 6952.62}, {\"order_year\": 2017, \"order_month\": 8, \"total_profit\": 9040.96}, {\"order_year\": 2017, \"order_month\": 9, \"total_profit\": 10991.56}, {\"order_year\": 2017, \"order_month\": 10, \"total_profit\": 9275.28}, {\"order_year\": 2017, \"order_month\": 11, \"total_profit\": 9690.1}, {\"order_year\": 2017, \"order_month\": 12, \"total_profit\": 8483.35}]}}, {\"mode\": \"vega-lite\"});\n",
       "</script>"
      ],
      "text/plain": [
       "alt.Chart(...)"
      ]
     },
     "execution_count": 9,
     "metadata": {},
     "output_type": "execute_result"
    }
   ],
   "source": [
    "a.plot.line(\n",
    "    x=\"order_month\",\n",
    "    y=\"total_profit\",\n",
    "    color=alt.Color(\n",
    "        \"order_year:N\",\n",
    "        scale=alt.Scale(scheme=\"category10\"),\n",
    "        legend=alt.Legend(title=\"Year\"),\n",
    "    ),\n",
    ").properties(width=1000, height=600)"
   ]
  },
  {
   "cell_type": "markdown",
   "metadata": {},
   "source": [
    "# Top 5 states with most profit\n"
   ]
  },
  {
   "cell_type": "code",
   "execution_count": 10,
   "metadata": {},
   "outputs": [],
   "source": [
    "b = (\n",
    "    df.group_by(pl.col(\"State\"))\n",
    "    .agg(pl.col(\"Profit\").sum().round(2).alias(\"total_profit\"))\n",
    "    .sort(pl.col(\"total_profit\"), descending=True)\n",
    "    .head()\n",
    ")"
   ]
  },
  {
   "cell_type": "code",
   "execution_count": 11,
   "metadata": {},
   "outputs": [
    {
     "data": {
      "text/html": [
       "<div><style>\n",
       ".dataframe > thead > tr,\n",
       ".dataframe > tbody > tr {\n",
       "  text-align: right;\n",
       "  white-space: pre-wrap;\n",
       "}\n",
       "</style>\n",
       "<small>shape: (5, 2)</small><table border=\"1\" class=\"dataframe\"><thead><tr><th>State</th><th>total_profit</th></tr><tr><td>str</td><td>f64</td></tr></thead><tbody><tr><td>&quot;California&quot;</td><td>76381.39</td></tr><tr><td>&quot;New York&quot;</td><td>74038.55</td></tr><tr><td>&quot;Washington&quot;</td><td>33402.65</td></tr><tr><td>&quot;Michigan&quot;</td><td>24463.19</td></tr><tr><td>&quot;Virginia&quot;</td><td>18597.95</td></tr></tbody></table></div>"
      ],
      "text/plain": [
       "shape: (5, 2)\n",
       "┌────────────┬──────────────┐\n",
       "│ State      ┆ total_profit │\n",
       "│ ---        ┆ ---          │\n",
       "│ str        ┆ f64          │\n",
       "╞════════════╪══════════════╡\n",
       "│ California ┆ 76381.39     │\n",
       "│ New York   ┆ 74038.55     │\n",
       "│ Washington ┆ 33402.65     │\n",
       "│ Michigan   ┆ 24463.19     │\n",
       "│ Virginia   ┆ 18597.95     │\n",
       "└────────────┴──────────────┘"
      ]
     },
     "execution_count": 11,
     "metadata": {},
     "output_type": "execute_result"
    }
   ],
   "source": [
    "b"
   ]
  },
  {
   "cell_type": "code",
   "execution_count": 12,
   "metadata": {},
   "outputs": [
    {
     "data": {
      "text/html": [
       "\n",
       "<style>\n",
       "  #altair-viz-0fd4a3e58244492d83cf68f99d61bf3a.vega-embed {\n",
       "    width: 100%;\n",
       "    display: flex;\n",
       "  }\n",
       "\n",
       "  #altair-viz-0fd4a3e58244492d83cf68f99d61bf3a.vega-embed details,\n",
       "  #altair-viz-0fd4a3e58244492d83cf68f99d61bf3a.vega-embed details summary {\n",
       "    position: relative;\n",
       "  }\n",
       "</style>\n",
       "<div id=\"altair-viz-0fd4a3e58244492d83cf68f99d61bf3a\"></div>\n",
       "<script type=\"text/javascript\">\n",
       "  var VEGA_DEBUG = (typeof VEGA_DEBUG == \"undefined\") ? {} : VEGA_DEBUG;\n",
       "  (function(spec, embedOpt){\n",
       "    let outputDiv = document.currentScript.previousElementSibling;\n",
       "    if (outputDiv.id !== \"altair-viz-0fd4a3e58244492d83cf68f99d61bf3a\") {\n",
       "      outputDiv = document.getElementById(\"altair-viz-0fd4a3e58244492d83cf68f99d61bf3a\");\n",
       "    }\n",
       "\n",
       "    const paths = {\n",
       "      \"vega\": \"https://cdn.jsdelivr.net/npm/vega@5?noext\",\n",
       "      \"vega-lib\": \"https://cdn.jsdelivr.net/npm/vega-lib?noext\",\n",
       "      \"vega-lite\": \"https://cdn.jsdelivr.net/npm/vega-lite@5.20.1?noext\",\n",
       "      \"vega-embed\": \"https://cdn.jsdelivr.net/npm/vega-embed@6?noext\",\n",
       "    };\n",
       "\n",
       "    function maybeLoadScript(lib, version) {\n",
       "      var key = `${lib.replace(\"-\", \"\")}_version`;\n",
       "      return (VEGA_DEBUG[key] == version) ?\n",
       "        Promise.resolve(paths[lib]) :\n",
       "        new Promise(function(resolve, reject) {\n",
       "          var s = document.createElement('script');\n",
       "          document.getElementsByTagName(\"head\")[0].appendChild(s);\n",
       "          s.async = true;\n",
       "          s.onload = () => {\n",
       "            VEGA_DEBUG[key] = version;\n",
       "            return resolve(paths[lib]);\n",
       "          };\n",
       "          s.onerror = () => reject(`Error loading script: ${paths[lib]}`);\n",
       "          s.src = paths[lib];\n",
       "        });\n",
       "    }\n",
       "\n",
       "    function showError(err) {\n",
       "      outputDiv.innerHTML = `<div class=\"error\" style=\"color:red;\">${err}</div>`;\n",
       "      throw err;\n",
       "    }\n",
       "\n",
       "    function displayChart(vegaEmbed) {\n",
       "      vegaEmbed(outputDiv, spec, embedOpt)\n",
       "        .catch(err => showError(`Javascript Error: ${err.message}<br>This usually means there's a typo in your chart specification. See the javascript console for the full traceback.`));\n",
       "    }\n",
       "\n",
       "    if(typeof define === \"function\" && define.amd) {\n",
       "      requirejs.config({paths});\n",
       "      let deps = [\"vega-embed\"];\n",
       "      require(deps, displayChart, err => showError(`Error loading script: ${err.message}`));\n",
       "    } else {\n",
       "      maybeLoadScript(\"vega\", \"5\")\n",
       "        .then(() => maybeLoadScript(\"vega-lite\", \"5.20.1\"))\n",
       "        .then(() => maybeLoadScript(\"vega-embed\", \"6\"))\n",
       "        .catch(showError)\n",
       "        .then(() => displayChart(vegaEmbed));\n",
       "    }\n",
       "  })({\"config\": {\"view\": {\"continuousWidth\": 300, \"continuousHeight\": 300}}, \"layer\": [{\"mark\": {\"type\": \"bar\", \"tooltip\": true}, \"encoding\": {\"x\": {\"field\": \"State\", \"sort\": \"-y\", \"type\": \"nominal\"}, \"y\": {\"field\": \"total_profit\", \"type\": \"quantitative\"}}, \"name\": \"view_1\", \"title\": \"Top 5 states by Profit\"}, {\"mark\": {\"type\": \"text\", \"align\": \"center\", \"baseline\": \"bottom\", \"dy\": -5}, \"encoding\": {\"text\": {\"field\": \"total_profit\", \"type\": \"quantitative\"}, \"x\": {\"field\": \"State\", \"sort\": \"-y\", \"type\": \"nominal\"}, \"y\": {\"field\": \"total_profit\", \"type\": \"quantitative\"}}, \"title\": \"Top 5 states by Profit\"}], \"data\": {\"name\": \"data-090d86319e8021ccef80bb0cae879d60\"}, \"height\": 400, \"params\": [{\"name\": \"param_2\", \"select\": {\"type\": \"interval\", \"encodings\": [\"x\", \"y\"]}, \"bind\": \"scales\", \"views\": [\"view_1\"]}], \"width\": 800, \"$schema\": \"https://vega.github.io/schema/vega-lite/v5.20.1.json\", \"datasets\": {\"data-090d86319e8021ccef80bb0cae879d60\": [{\"State\": \"California\", \"total_profit\": 76381.39}, {\"State\": \"New York\", \"total_profit\": 74038.55}, {\"State\": \"Washington\", \"total_profit\": 33402.65}, {\"State\": \"Michigan\", \"total_profit\": 24463.19}, {\"State\": \"Virginia\", \"total_profit\": 18597.95}]}}, {\"mode\": \"vega-lite\"});\n",
       "</script>"
      ],
      "text/plain": [
       "alt.LayerChart(...)"
      ]
     },
     "execution_count": 12,
     "metadata": {},
     "output_type": "execute_result"
    }
   ],
   "source": [
    "# Bar chart\n",
    "bar_chart = b.plot.bar(x=alt.X(\"State\", sort=\"-y\"), y=\"total_profit\").properties(\n",
    "    width=800, height=400, title=\"Top 5 states by Profit\"\n",
    ")\n",
    "\n",
    "# Text labels on top of bars\n",
    "text = bar_chart.mark_text(\n",
    "    align=\"center\", baseline=\"bottom\", dy=-5  # Adjust position above bars\n",
    ").encode(text=\"total_profit\")\n",
    "\n",
    "bar_chart + text"
   ]
  },
  {
   "cell_type": "markdown",
   "metadata": {},
   "source": [
    "# Region and Segment wise sales\n"
   ]
  },
  {
   "cell_type": "code",
   "execution_count": 13,
   "metadata": {},
   "outputs": [],
   "source": [
    "c = df.group_by(pl.col(\"Region\"), pl.col(\"Segment\")).agg(\n",
    "    pl.col(\"Sales\").sum().round(2).alias(\"total_sales\")\n",
    ")"
   ]
  },
  {
   "cell_type": "code",
   "execution_count": 14,
   "metadata": {},
   "outputs": [
    {
     "data": {
      "text/html": [
       "<div><style>\n",
       ".dataframe > thead > tr,\n",
       ".dataframe > tbody > tr {\n",
       "  text-align: right;\n",
       "  white-space: pre-wrap;\n",
       "}\n",
       "</style>\n",
       "<small>shape: (12, 3)</small><table border=\"1\" class=\"dataframe\"><thead><tr><th>Region</th><th>Segment</th><th>total_sales</th></tr><tr><td>str</td><td>str</td><td>f64</td></tr></thead><tbody><tr><td>&quot;West&quot;</td><td>&quot;Consumer&quot;</td><td>362880.77</td></tr><tr><td>&quot;West&quot;</td><td>&quot;Home Office&quot;</td><td>136721.78</td></tr><tr><td>&quot;Central&quot;</td><td>&quot;Corporate&quot;</td><td>157995.81</td></tr><tr><td>&quot;West&quot;</td><td>&quot;Corporate&quot;</td><td>225855.27</td></tr><tr><td>&quot;Central&quot;</td><td>&quot;Home Office&quot;</td><td>91212.64</td></tr><tr><td>&hellip;</td><td>&hellip;</td><td>&hellip;</td></tr><tr><td>&quot;South&quot;</td><td>&quot;Consumer&quot;</td><td>195580.97</td></tr><tr><td>&quot;East&quot;</td><td>&quot;Home Office&quot;</td><td>127463.73</td></tr><tr><td>&quot;East&quot;</td><td>&quot;Corporate&quot;</td><td>200409.35</td></tr><tr><td>&quot;Central&quot;</td><td>&quot;Consumer&quot;</td><td>252031.43</td></tr><tr><td>&quot;South&quot;</td><td>&quot;Home Office&quot;</td><td>74255.0</td></tr></tbody></table></div>"
      ],
      "text/plain": [
       "shape: (12, 3)\n",
       "┌─────────┬─────────────┬─────────────┐\n",
       "│ Region  ┆ Segment     ┆ total_sales │\n",
       "│ ---     ┆ ---         ┆ ---         │\n",
       "│ str     ┆ str         ┆ f64         │\n",
       "╞═════════╪═════════════╪═════════════╡\n",
       "│ West    ┆ Consumer    ┆ 362880.77   │\n",
       "│ West    ┆ Home Office ┆ 136721.78   │\n",
       "│ Central ┆ Corporate   ┆ 157995.81   │\n",
       "│ West    ┆ Corporate   ┆ 225855.27   │\n",
       "│ Central ┆ Home Office ┆ 91212.64    │\n",
       "│ …       ┆ …           ┆ …           │\n",
       "│ South   ┆ Consumer    ┆ 195580.97   │\n",
       "│ East    ┆ Home Office ┆ 127463.73   │\n",
       "│ East    ┆ Corporate   ┆ 200409.35   │\n",
       "│ Central ┆ Consumer    ┆ 252031.43   │\n",
       "│ South   ┆ Home Office ┆ 74255.0     │\n",
       "└─────────┴─────────────┴─────────────┘"
      ]
     },
     "execution_count": 14,
     "metadata": {},
     "output_type": "execute_result"
    }
   ],
   "source": [
    "c"
   ]
  },
  {
   "cell_type": "code",
   "execution_count": 15,
   "metadata": {},
   "outputs": [
    {
     "data": {
      "text/html": [
       "<div><style>\n",
       ".dataframe > thead > tr,\n",
       ".dataframe > tbody > tr {\n",
       "  text-align: right;\n",
       "  white-space: pre-wrap;\n",
       "}\n",
       "</style>\n",
       "<small>shape: (4, 2)</small><table border=\"1\" class=\"dataframe\"><thead><tr><th>Region</th><th>total_sales</th></tr><tr><td>str</td><td>f64</td></tr></thead><tbody><tr><td>&quot;West&quot;</td><td>725457.82</td></tr><tr><td>&quot;East&quot;</td><td>678781.24</td></tr><tr><td>&quot;Central&quot;</td><td>501239.89</td></tr><tr><td>&quot;South&quot;</td><td>391721.91</td></tr></tbody></table></div>"
      ],
      "text/plain": [
       "shape: (4, 2)\n",
       "┌─────────┬─────────────┐\n",
       "│ Region  ┆ total_sales │\n",
       "│ ---     ┆ ---         │\n",
       "│ str     ┆ f64         │\n",
       "╞═════════╪═════════════╡\n",
       "│ West    ┆ 725457.82   │\n",
       "│ East    ┆ 678781.24   │\n",
       "│ Central ┆ 501239.89   │\n",
       "│ South   ┆ 391721.91   │\n",
       "└─────────┴─────────────┘"
      ]
     },
     "execution_count": 15,
     "metadata": {},
     "output_type": "execute_result"
    }
   ],
   "source": [
    "region_order = (\n",
    "    df.group_by(pl.col(\"Region\"))\n",
    "    .agg(pl.col(\"Sales\").sum().round(2).alias(\"total_sales\"))\n",
    "    .sort(pl.col(\"total_sales\"), descending=True)\n",
    ")\n",
    "region_order"
   ]
  },
  {
   "cell_type": "code",
   "execution_count": 16,
   "metadata": {},
   "outputs": [
    {
     "data": {
      "text/plain": [
       "['West', 'East', 'Central', 'South']"
      ]
     },
     "execution_count": 16,
     "metadata": {},
     "output_type": "execute_result"
    }
   ],
   "source": [
    "region_order = region_order[\"Region\"].to_list()\n",
    "region_order"
   ]
  },
  {
   "cell_type": "code",
   "execution_count": 17,
   "metadata": {},
   "outputs": [],
   "source": [
    "chart = c.plot.bar(\n",
    "    x=alt.X(\"Region:N\", sort=region_order), y=\"total_sales:Q\", color=\"Segment:N\"\n",
    ").properties(width=800, height=400, title=\"Region and Segment wise Total Sales\")"
   ]
  },
  {
   "cell_type": "code",
   "execution_count": 18,
   "metadata": {},
   "outputs": [
    {
     "data": {
      "text/html": [
       "\n",
       "<style>\n",
       "  #altair-viz-56d24afcb06a405bb628b3743a656142.vega-embed {\n",
       "    width: 100%;\n",
       "    display: flex;\n",
       "  }\n",
       "\n",
       "  #altair-viz-56d24afcb06a405bb628b3743a656142.vega-embed details,\n",
       "  #altair-viz-56d24afcb06a405bb628b3743a656142.vega-embed details summary {\n",
       "    position: relative;\n",
       "  }\n",
       "</style>\n",
       "<div id=\"altair-viz-56d24afcb06a405bb628b3743a656142\"></div>\n",
       "<script type=\"text/javascript\">\n",
       "  var VEGA_DEBUG = (typeof VEGA_DEBUG == \"undefined\") ? {} : VEGA_DEBUG;\n",
       "  (function(spec, embedOpt){\n",
       "    let outputDiv = document.currentScript.previousElementSibling;\n",
       "    if (outputDiv.id !== \"altair-viz-56d24afcb06a405bb628b3743a656142\") {\n",
       "      outputDiv = document.getElementById(\"altair-viz-56d24afcb06a405bb628b3743a656142\");\n",
       "    }\n",
       "\n",
       "    const paths = {\n",
       "      \"vega\": \"https://cdn.jsdelivr.net/npm/vega@5?noext\",\n",
       "      \"vega-lib\": \"https://cdn.jsdelivr.net/npm/vega-lib?noext\",\n",
       "      \"vega-lite\": \"https://cdn.jsdelivr.net/npm/vega-lite@5.20.1?noext\",\n",
       "      \"vega-embed\": \"https://cdn.jsdelivr.net/npm/vega-embed@6?noext\",\n",
       "    };\n",
       "\n",
       "    function maybeLoadScript(lib, version) {\n",
       "      var key = `${lib.replace(\"-\", \"\")}_version`;\n",
       "      return (VEGA_DEBUG[key] == version) ?\n",
       "        Promise.resolve(paths[lib]) :\n",
       "        new Promise(function(resolve, reject) {\n",
       "          var s = document.createElement('script');\n",
       "          document.getElementsByTagName(\"head\")[0].appendChild(s);\n",
       "          s.async = true;\n",
       "          s.onload = () => {\n",
       "            VEGA_DEBUG[key] = version;\n",
       "            return resolve(paths[lib]);\n",
       "          };\n",
       "          s.onerror = () => reject(`Error loading script: ${paths[lib]}`);\n",
       "          s.src = paths[lib];\n",
       "        });\n",
       "    }\n",
       "\n",
       "    function showError(err) {\n",
       "      outputDiv.innerHTML = `<div class=\"error\" style=\"color:red;\">${err}</div>`;\n",
       "      throw err;\n",
       "    }\n",
       "\n",
       "    function displayChart(vegaEmbed) {\n",
       "      vegaEmbed(outputDiv, spec, embedOpt)\n",
       "        .catch(err => showError(`Javascript Error: ${err.message}<br>This usually means there's a typo in your chart specification. See the javascript console for the full traceback.`));\n",
       "    }\n",
       "\n",
       "    if(typeof define === \"function\" && define.amd) {\n",
       "      requirejs.config({paths});\n",
       "      let deps = [\"vega-embed\"];\n",
       "      require(deps, displayChart, err => showError(`Error loading script: ${err.message}`));\n",
       "    } else {\n",
       "      maybeLoadScript(\"vega\", \"5\")\n",
       "        .then(() => maybeLoadScript(\"vega-lite\", \"5.20.1\"))\n",
       "        .then(() => maybeLoadScript(\"vega-embed\", \"6\"))\n",
       "        .catch(showError)\n",
       "        .then(() => displayChart(vegaEmbed));\n",
       "    }\n",
       "  })({\"config\": {\"view\": {\"continuousWidth\": 300, \"continuousHeight\": 300}}, \"data\": {\"name\": \"data-a28eb606ea40d3f88048d40f0be64840\"}, \"mark\": {\"type\": \"bar\", \"tooltip\": true}, \"encoding\": {\"color\": {\"field\": \"Segment\", \"type\": \"nominal\"}, \"x\": {\"field\": \"Region\", \"sort\": [\"West\", \"East\", \"Central\", \"South\"], \"type\": \"nominal\"}, \"y\": {\"field\": \"total_sales\", \"type\": \"quantitative\"}}, \"height\": 400, \"params\": [{\"name\": \"param_3\", \"select\": {\"type\": \"interval\", \"encodings\": [\"x\", \"y\"]}, \"bind\": \"scales\"}], \"title\": \"Region and Segment wise Total Sales\", \"width\": 800, \"$schema\": \"https://vega.github.io/schema/vega-lite/v5.20.1.json\", \"datasets\": {\"data-a28eb606ea40d3f88048d40f0be64840\": [{\"Region\": \"West\", \"Segment\": \"Consumer\", \"total_sales\": 362880.77}, {\"Region\": \"West\", \"Segment\": \"Home Office\", \"total_sales\": 136721.78}, {\"Region\": \"Central\", \"Segment\": \"Corporate\", \"total_sales\": 157995.81}, {\"Region\": \"West\", \"Segment\": \"Corporate\", \"total_sales\": 225855.27}, {\"Region\": \"Central\", \"Segment\": \"Home Office\", \"total_sales\": 91212.64}, {\"Region\": \"East\", \"Segment\": \"Consumer\", \"total_sales\": 350908.17}, {\"Region\": \"South\", \"Segment\": \"Corporate\", \"total_sales\": 121885.93}, {\"Region\": \"South\", \"Segment\": \"Consumer\", \"total_sales\": 195580.97}, {\"Region\": \"East\", \"Segment\": \"Home Office\", \"total_sales\": 127463.73}, {\"Region\": \"East\", \"Segment\": \"Corporate\", \"total_sales\": 200409.35}, {\"Region\": \"Central\", \"Segment\": \"Consumer\", \"total_sales\": 252031.43}, {\"Region\": \"South\", \"Segment\": \"Home Office\", \"total_sales\": 74255.0}]}}, {\"mode\": \"vega-lite\"});\n",
       "</script>"
      ],
      "text/plain": [
       "alt.Chart(...)"
      ]
     },
     "execution_count": 18,
     "metadata": {},
     "output_type": "execute_result"
    }
   ],
   "source": [
    "chart"
   ]
  },
  {
   "cell_type": "code",
   "execution_count": 19,
   "metadata": {},
   "outputs": [
    {
     "data": {
      "text/plain": [
       "altair.vegalite.v5.api.Chart"
      ]
     },
     "execution_count": 19,
     "metadata": {},
     "output_type": "execute_result"
    }
   ],
   "source": [
    "type(chart)"
   ]
  },
  {
   "cell_type": "markdown",
   "metadata": {},
   "source": [
    "# Stacked bar chart custom defifnition\n"
   ]
  },
  {
   "cell_type": "code",
   "execution_count": 20,
   "metadata": {},
   "outputs": [],
   "source": [
    "def stacked_bar_chart(\n",
    "    df: pl.DataFrame, x: str, y: str, color: str\n",
    ") -> tuple[pl.DataFrame, alt.Chart]:\n",
    "    a = df.group_by(pl.col(x), pl.col(color)).agg(\n",
    "        pl.col(y).sum().round(2).alias(f\"total_{y}\")\n",
    "    )\n",
    "    order = (\n",
    "        df.group_by(pl.col(x))\n",
    "        .agg(pl.col(y).sum().round(2).alias(f\"total_{y}\"))\n",
    "        .sort(pl.col(f\"total_{y}\"), descending=True)\n",
    "    )\n",
    "    order = order[x].to_list()\n",
    "    chart = a.plot.bar(\n",
    "        x=alt.X(f\"{x}:N\", sort=order), y=f\"total_{y}:Q\", color=f\"{color}:N\"\n",
    "    ).properties(width=800, height=400, title=f\"{x} and {color} wise {y}\")\n",
    "    return a, chart"
   ]
  },
  {
   "cell_type": "code",
   "execution_count": 21,
   "metadata": {},
   "outputs": [
    {
     "data": {
      "text/plain": [
       "['Row ID',\n",
       " 'Order ID',\n",
       " 'Order Date',\n",
       " 'Ship Date',\n",
       " 'Ship Mode',\n",
       " 'Customer ID',\n",
       " 'Customer Name',\n",
       " 'Segment',\n",
       " 'Country',\n",
       " 'City',\n",
       " 'State',\n",
       " 'Postal Code',\n",
       " 'Region',\n",
       " 'Product ID',\n",
       " 'Category',\n",
       " 'Sub-Category',\n",
       " 'Product Name',\n",
       " 'Sales',\n",
       " 'Quantity',\n",
       " 'Discount',\n",
       " 'Profit']"
      ]
     },
     "execution_count": 21,
     "metadata": {},
     "output_type": "execute_result"
    }
   ],
   "source": [
    "df.columns"
   ]
  },
  {
   "cell_type": "code",
   "execution_count": 22,
   "metadata": {},
   "outputs": [],
   "source": [
    "a, chart = stacked_bar_chart(df, x=\"Category\", y=\"Quantity\", color=\"Segment\")"
   ]
  },
  {
   "cell_type": "code",
   "execution_count": 23,
   "metadata": {},
   "outputs": [
    {
     "data": {
      "text/html": [
       "<div><style>\n",
       ".dataframe > thead > tr,\n",
       ".dataframe > tbody > tr {\n",
       "  text-align: right;\n",
       "  white-space: pre-wrap;\n",
       "}\n",
       "</style>\n",
       "<small>shape: (9, 3)</small><table border=\"1\" class=\"dataframe\"><thead><tr><th>Category</th><th>Segment</th><th>total_Quantity</th></tr><tr><td>str</td><td>str</td><td>i64</td></tr></thead><tbody><tr><td>&quot;Office Supplies&quot;</td><td>&quot;Corporate&quot;</td><td>7018</td></tr><tr><td>&quot;Technology&quot;</td><td>&quot;Corporate&quot;</td><td>2095</td></tr><tr><td>&quot;Technology&quot;</td><td>&quot;Home Office&quot;</td><td>1247</td></tr><tr><td>&quot;Furniture&quot;</td><td>&quot;Home Office&quot;</td><td>1367</td></tr><tr><td>&quot;Furniture&quot;</td><td>&quot;Consumer&quot;</td><td>4166</td></tr><tr><td>&quot;Technology&quot;</td><td>&quot;Consumer&quot;</td><td>3597</td></tr><tr><td>&quot;Furniture&quot;</td><td>&quot;Corporate&quot;</td><td>2495</td></tr><tr><td>&quot;Office Supplies&quot;</td><td>&quot;Consumer&quot;</td><td>11758</td></tr><tr><td>&quot;Office Supplies&quot;</td><td>&quot;Home Office&quot;</td><td>4130</td></tr></tbody></table></div>"
      ],
      "text/plain": [
       "shape: (9, 3)\n",
       "┌─────────────────┬─────────────┬────────────────┐\n",
       "│ Category        ┆ Segment     ┆ total_Quantity │\n",
       "│ ---             ┆ ---         ┆ ---            │\n",
       "│ str             ┆ str         ┆ i64            │\n",
       "╞═════════════════╪═════════════╪════════════════╡\n",
       "│ Office Supplies ┆ Corporate   ┆ 7018           │\n",
       "│ Technology      ┆ Corporate   ┆ 2095           │\n",
       "│ Technology      ┆ Home Office ┆ 1247           │\n",
       "│ Furniture       ┆ Home Office ┆ 1367           │\n",
       "│ Furniture       ┆ Consumer    ┆ 4166           │\n",
       "│ Technology      ┆ Consumer    ┆ 3597           │\n",
       "│ Furniture       ┆ Corporate   ┆ 2495           │\n",
       "│ Office Supplies ┆ Consumer    ┆ 11758          │\n",
       "│ Office Supplies ┆ Home Office ┆ 4130           │\n",
       "└─────────────────┴─────────────┴────────────────┘"
      ]
     },
     "execution_count": 23,
     "metadata": {},
     "output_type": "execute_result"
    }
   ],
   "source": [
    "a"
   ]
  },
  {
   "cell_type": "code",
   "execution_count": 24,
   "metadata": {},
   "outputs": [
    {
     "data": {
      "text/html": [
       "\n",
       "<style>\n",
       "  #altair-viz-540513726530432997f78e2d190abc55.vega-embed {\n",
       "    width: 100%;\n",
       "    display: flex;\n",
       "  }\n",
       "\n",
       "  #altair-viz-540513726530432997f78e2d190abc55.vega-embed details,\n",
       "  #altair-viz-540513726530432997f78e2d190abc55.vega-embed details summary {\n",
       "    position: relative;\n",
       "  }\n",
       "</style>\n",
       "<div id=\"altair-viz-540513726530432997f78e2d190abc55\"></div>\n",
       "<script type=\"text/javascript\">\n",
       "  var VEGA_DEBUG = (typeof VEGA_DEBUG == \"undefined\") ? {} : VEGA_DEBUG;\n",
       "  (function(spec, embedOpt){\n",
       "    let outputDiv = document.currentScript.previousElementSibling;\n",
       "    if (outputDiv.id !== \"altair-viz-540513726530432997f78e2d190abc55\") {\n",
       "      outputDiv = document.getElementById(\"altair-viz-540513726530432997f78e2d190abc55\");\n",
       "    }\n",
       "\n",
       "    const paths = {\n",
       "      \"vega\": \"https://cdn.jsdelivr.net/npm/vega@5?noext\",\n",
       "      \"vega-lib\": \"https://cdn.jsdelivr.net/npm/vega-lib?noext\",\n",
       "      \"vega-lite\": \"https://cdn.jsdelivr.net/npm/vega-lite@5.20.1?noext\",\n",
       "      \"vega-embed\": \"https://cdn.jsdelivr.net/npm/vega-embed@6?noext\",\n",
       "    };\n",
       "\n",
       "    function maybeLoadScript(lib, version) {\n",
       "      var key = `${lib.replace(\"-\", \"\")}_version`;\n",
       "      return (VEGA_DEBUG[key] == version) ?\n",
       "        Promise.resolve(paths[lib]) :\n",
       "        new Promise(function(resolve, reject) {\n",
       "          var s = document.createElement('script');\n",
       "          document.getElementsByTagName(\"head\")[0].appendChild(s);\n",
       "          s.async = true;\n",
       "          s.onload = () => {\n",
       "            VEGA_DEBUG[key] = version;\n",
       "            return resolve(paths[lib]);\n",
       "          };\n",
       "          s.onerror = () => reject(`Error loading script: ${paths[lib]}`);\n",
       "          s.src = paths[lib];\n",
       "        });\n",
       "    }\n",
       "\n",
       "    function showError(err) {\n",
       "      outputDiv.innerHTML = `<div class=\"error\" style=\"color:red;\">${err}</div>`;\n",
       "      throw err;\n",
       "    }\n",
       "\n",
       "    function displayChart(vegaEmbed) {\n",
       "      vegaEmbed(outputDiv, spec, embedOpt)\n",
       "        .catch(err => showError(`Javascript Error: ${err.message}<br>This usually means there's a typo in your chart specification. See the javascript console for the full traceback.`));\n",
       "    }\n",
       "\n",
       "    if(typeof define === \"function\" && define.amd) {\n",
       "      requirejs.config({paths});\n",
       "      let deps = [\"vega-embed\"];\n",
       "      require(deps, displayChart, err => showError(`Error loading script: ${err.message}`));\n",
       "    } else {\n",
       "      maybeLoadScript(\"vega\", \"5\")\n",
       "        .then(() => maybeLoadScript(\"vega-lite\", \"5.20.1\"))\n",
       "        .then(() => maybeLoadScript(\"vega-embed\", \"6\"))\n",
       "        .catch(showError)\n",
       "        .then(() => displayChart(vegaEmbed));\n",
       "    }\n",
       "  })({\"config\": {\"view\": {\"continuousWidth\": 300, \"continuousHeight\": 300}}, \"data\": {\"name\": \"data-e83358327eef66910b23206af15a44c5\"}, \"mark\": {\"type\": \"bar\", \"tooltip\": true}, \"encoding\": {\"color\": {\"field\": \"Segment\", \"type\": \"nominal\"}, \"x\": {\"field\": \"Category\", \"sort\": [\"Office Supplies\", \"Furniture\", \"Technology\"], \"type\": \"nominal\"}, \"y\": {\"field\": \"total_Quantity\", \"type\": \"quantitative\"}}, \"height\": 400, \"params\": [{\"name\": \"param_4\", \"select\": {\"type\": \"interval\", \"encodings\": [\"x\", \"y\"]}, \"bind\": \"scales\"}], \"title\": \"Category and Segment wise Quantity\", \"width\": 800, \"$schema\": \"https://vega.github.io/schema/vega-lite/v5.20.1.json\", \"datasets\": {\"data-e83358327eef66910b23206af15a44c5\": [{\"Category\": \"Office Supplies\", \"Segment\": \"Corporate\", \"total_Quantity\": 7018}, {\"Category\": \"Technology\", \"Segment\": \"Corporate\", \"total_Quantity\": 2095}, {\"Category\": \"Technology\", \"Segment\": \"Home Office\", \"total_Quantity\": 1247}, {\"Category\": \"Furniture\", \"Segment\": \"Home Office\", \"total_Quantity\": 1367}, {\"Category\": \"Furniture\", \"Segment\": \"Consumer\", \"total_Quantity\": 4166}, {\"Category\": \"Technology\", \"Segment\": \"Consumer\", \"total_Quantity\": 3597}, {\"Category\": \"Furniture\", \"Segment\": \"Corporate\", \"total_Quantity\": 2495}, {\"Category\": \"Office Supplies\", \"Segment\": \"Consumer\", \"total_Quantity\": 11758}, {\"Category\": \"Office Supplies\", \"Segment\": \"Home Office\", \"total_Quantity\": 4130}]}}, {\"mode\": \"vega-lite\"});\n",
       "</script>"
      ],
      "text/plain": [
       "alt.Chart(...)"
      ]
     },
     "execution_count": 24,
     "metadata": {},
     "output_type": "execute_result"
    }
   ],
   "source": [
    "chart"
   ]
  },
  {
   "cell_type": "code",
   "execution_count": 25,
   "metadata": {},
   "outputs": [],
   "source": [
    "b, chart = stacked_bar_chart(df, x=\"Sub-Category\", y=\"Profit\", color=\"Region\")"
   ]
  },
  {
   "cell_type": "code",
   "execution_count": 26,
   "metadata": {},
   "outputs": [
    {
     "data": {
      "text/html": [
       "<div><style>\n",
       ".dataframe > thead > tr,\n",
       ".dataframe > tbody > tr {\n",
       "  text-align: right;\n",
       "  white-space: pre-wrap;\n",
       "}\n",
       "</style>\n",
       "<small>shape: (68, 3)</small><table border=\"1\" class=\"dataframe\"><thead><tr><th>Sub-Category</th><th>Region</th><th>total_Profit</th></tr><tr><td>str</td><td>str</td><td>f64</td></tr></thead><tbody><tr><td>&quot;Machines&quot;</td><td>&quot;Central&quot;</td><td>-1486.07</td></tr><tr><td>&quot;Envelopes&quot;</td><td>&quot;Central&quot;</td><td>1777.53</td></tr><tr><td>&quot;Appliances&quot;</td><td>&quot;East&quot;</td><td>8391.41</td></tr><tr><td>&quot;Art&quot;</td><td>&quot;Central&quot;</td><td>1195.16</td></tr><tr><td>&quot;Storage&quot;</td><td>&quot;Central&quot;</td><td>1969.84</td></tr><tr><td>&hellip;</td><td>&hellip;</td><td>&hellip;</td></tr><tr><td>&quot;Copiers&quot;</td><td>&quot;East&quot;</td><td>17022.84</td></tr><tr><td>&quot;Phones&quot;</td><td>&quot;South&quot;</td><td>10767.28</td></tr><tr><td>&quot;Paper&quot;</td><td>&quot;South&quot;</td><td>5947.06</td></tr><tr><td>&quot;Fasteners&quot;</td><td>&quot;Central&quot;</td><td>236.62</td></tr><tr><td>&quot;Envelopes&quot;</td><td>&quot;East&quot;</td><td>1812.41</td></tr></tbody></table></div>"
      ],
      "text/plain": [
       "shape: (68, 3)\n",
       "┌──────────────┬─────────┬──────────────┐\n",
       "│ Sub-Category ┆ Region  ┆ total_Profit │\n",
       "│ ---          ┆ ---     ┆ ---          │\n",
       "│ str          ┆ str     ┆ f64          │\n",
       "╞══════════════╪═════════╪══════════════╡\n",
       "│ Machines     ┆ Central ┆ -1486.07     │\n",
       "│ Envelopes    ┆ Central ┆ 1777.53      │\n",
       "│ Appliances   ┆ East    ┆ 8391.41      │\n",
       "│ Art          ┆ Central ┆ 1195.16      │\n",
       "│ Storage      ┆ Central ┆ 1969.84      │\n",
       "│ …            ┆ …       ┆ …            │\n",
       "│ Copiers      ┆ East    ┆ 17022.84     │\n",
       "│ Phones       ┆ South   ┆ 10767.28     │\n",
       "│ Paper        ┆ South   ┆ 5947.06      │\n",
       "│ Fasteners    ┆ Central ┆ 236.62       │\n",
       "│ Envelopes    ┆ East    ┆ 1812.41      │\n",
       "└──────────────┴─────────┴──────────────┘"
      ]
     },
     "execution_count": 26,
     "metadata": {},
     "output_type": "execute_result"
    }
   ],
   "source": [
    "b"
   ]
  },
  {
   "cell_type": "code",
   "execution_count": 27,
   "metadata": {},
   "outputs": [
    {
     "data": {
      "text/html": [
       "\n",
       "<style>\n",
       "  #altair-viz-fd8079caa1054294aa13a20dd396641f.vega-embed {\n",
       "    width: 100%;\n",
       "    display: flex;\n",
       "  }\n",
       "\n",
       "  #altair-viz-fd8079caa1054294aa13a20dd396641f.vega-embed details,\n",
       "  #altair-viz-fd8079caa1054294aa13a20dd396641f.vega-embed details summary {\n",
       "    position: relative;\n",
       "  }\n",
       "</style>\n",
       "<div id=\"altair-viz-fd8079caa1054294aa13a20dd396641f\"></div>\n",
       "<script type=\"text/javascript\">\n",
       "  var VEGA_DEBUG = (typeof VEGA_DEBUG == \"undefined\") ? {} : VEGA_DEBUG;\n",
       "  (function(spec, embedOpt){\n",
       "    let outputDiv = document.currentScript.previousElementSibling;\n",
       "    if (outputDiv.id !== \"altair-viz-fd8079caa1054294aa13a20dd396641f\") {\n",
       "      outputDiv = document.getElementById(\"altair-viz-fd8079caa1054294aa13a20dd396641f\");\n",
       "    }\n",
       "\n",
       "    const paths = {\n",
       "      \"vega\": \"https://cdn.jsdelivr.net/npm/vega@5?noext\",\n",
       "      \"vega-lib\": \"https://cdn.jsdelivr.net/npm/vega-lib?noext\",\n",
       "      \"vega-lite\": \"https://cdn.jsdelivr.net/npm/vega-lite@5.20.1?noext\",\n",
       "      \"vega-embed\": \"https://cdn.jsdelivr.net/npm/vega-embed@6?noext\",\n",
       "    };\n",
       "\n",
       "    function maybeLoadScript(lib, version) {\n",
       "      var key = `${lib.replace(\"-\", \"\")}_version`;\n",
       "      return (VEGA_DEBUG[key] == version) ?\n",
       "        Promise.resolve(paths[lib]) :\n",
       "        new Promise(function(resolve, reject) {\n",
       "          var s = document.createElement('script');\n",
       "          document.getElementsByTagName(\"head\")[0].appendChild(s);\n",
       "          s.async = true;\n",
       "          s.onload = () => {\n",
       "            VEGA_DEBUG[key] = version;\n",
       "            return resolve(paths[lib]);\n",
       "          };\n",
       "          s.onerror = () => reject(`Error loading script: ${paths[lib]}`);\n",
       "          s.src = paths[lib];\n",
       "        });\n",
       "    }\n",
       "\n",
       "    function showError(err) {\n",
       "      outputDiv.innerHTML = `<div class=\"error\" style=\"color:red;\">${err}</div>`;\n",
       "      throw err;\n",
       "    }\n",
       "\n",
       "    function displayChart(vegaEmbed) {\n",
       "      vegaEmbed(outputDiv, spec, embedOpt)\n",
       "        .catch(err => showError(`Javascript Error: ${err.message}<br>This usually means there's a typo in your chart specification. See the javascript console for the full traceback.`));\n",
       "    }\n",
       "\n",
       "    if(typeof define === \"function\" && define.amd) {\n",
       "      requirejs.config({paths});\n",
       "      let deps = [\"vega-embed\"];\n",
       "      require(deps, displayChart, err => showError(`Error loading script: ${err.message}`));\n",
       "    } else {\n",
       "      maybeLoadScript(\"vega\", \"5\")\n",
       "        .then(() => maybeLoadScript(\"vega-lite\", \"5.20.1\"))\n",
       "        .then(() => maybeLoadScript(\"vega-embed\", \"6\"))\n",
       "        .catch(showError)\n",
       "        .then(() => displayChart(vegaEmbed));\n",
       "    }\n",
       "  })({\"config\": {\"view\": {\"continuousWidth\": 300, \"continuousHeight\": 300}}, \"data\": {\"name\": \"data-cae7fdb813deb581bcc2d6580569e216\"}, \"mark\": {\"type\": \"bar\", \"tooltip\": true}, \"encoding\": {\"color\": {\"field\": \"Region\", \"type\": \"nominal\"}, \"x\": {\"field\": \"Sub-Category\", \"sort\": [\"Copiers\", \"Phones\", \"Accessories\", \"Paper\", \"Binders\", \"Chairs\", \"Storage\", \"Appliances\", \"Furnishings\", \"Envelopes\", \"Art\", \"Labels\", \"Machines\", \"Fasteners\", \"Supplies\", \"Bookcases\", \"Tables\"], \"type\": \"nominal\"}, \"y\": {\"field\": \"total_Profit\", \"type\": \"quantitative\"}}, \"height\": 400, \"params\": [{\"name\": \"param_5\", \"select\": {\"type\": \"interval\", \"encodings\": [\"x\", \"y\"]}, \"bind\": \"scales\"}], \"title\": \"Sub-Category and Region wise Profit\", \"width\": 800, \"$schema\": \"https://vega.github.io/schema/vega-lite/v5.20.1.json\", \"datasets\": {\"data-cae7fdb813deb581bcc2d6580569e216\": [{\"Sub-Category\": \"Machines\", \"Region\": \"Central\", \"total_Profit\": -1486.07}, {\"Sub-Category\": \"Envelopes\", \"Region\": \"Central\", \"total_Profit\": 1777.53}, {\"Sub-Category\": \"Appliances\", \"Region\": \"East\", \"total_Profit\": 8391.41}, {\"Sub-Category\": \"Art\", \"Region\": \"Central\", \"total_Profit\": 1195.16}, {\"Sub-Category\": \"Storage\", \"Region\": \"Central\", \"total_Profit\": 1969.84}, {\"Sub-Category\": \"Appliances\", \"Region\": \"South\", \"total_Profit\": 4123.94}, {\"Sub-Category\": \"Chairs\", \"Region\": \"South\", \"total_Profit\": 6612.09}, {\"Sub-Category\": \"Chairs\", \"Region\": \"East\", \"total_Profit\": 9357.77}, {\"Sub-Category\": \"Furnishings\", \"Region\": \"West\", \"total_Profit\": 7641.27}, {\"Sub-Category\": \"Machines\", \"Region\": \"West\", \"total_Profit\": -618.93}, {\"Sub-Category\": \"Paper\", \"Region\": \"Central\", \"total_Profit\": 6971.9}, {\"Sub-Category\": \"Storage\", \"Region\": \"West\", \"total_Profit\": 8645.32}, {\"Sub-Category\": \"Phones\", \"Region\": \"East\", \"total_Profit\": 12314.69}, {\"Sub-Category\": \"Bookcases\", \"Region\": \"South\", \"total_Profit\": 1339.49}, {\"Sub-Category\": \"Copiers\", \"Region\": \"West\", \"total_Profit\": 19327.24}, {\"Sub-Category\": \"Phones\", \"Region\": \"Central\", \"total_Profit\": 12323.03}, {\"Sub-Category\": \"Supplies\", \"Region\": \"East\", \"total_Profit\": -1155.14}, {\"Sub-Category\": \"Tables\", \"Region\": \"East\", \"total_Profit\": -11025.38}, {\"Sub-Category\": \"Tables\", \"Region\": \"West\", \"total_Profit\": 1482.61}, {\"Sub-Category\": \"Accessories\", \"Region\": \"West\", \"total_Profit\": 16484.6}, {\"Sub-Category\": \"Phones\", \"Region\": \"West\", \"total_Profit\": 9110.74}, {\"Sub-Category\": \"Storage\", \"Region\": \"South\", \"total_Profit\": 2274.3}, {\"Sub-Category\": \"Bookcases\", \"Region\": \"East\", \"total_Profit\": -1167.63}, {\"Sub-Category\": \"Bookcases\", \"Region\": \"Central\", \"total_Profit\": -1997.9}, {\"Sub-Category\": \"Accessories\", \"Region\": \"South\", \"total_Profit\": 7004.54}, {\"Sub-Category\": \"Copiers\", \"Region\": \"Central\", \"total_Profit\": 15608.84}, {\"Sub-Category\": \"Supplies\", \"Region\": \"Central\", \"total_Profit\": -661.89}, {\"Sub-Category\": \"Chairs\", \"Region\": \"Central\", \"total_Profit\": 6592.72}, {\"Sub-Category\": \"Machines\", \"Region\": \"South\", \"total_Profit\": -1438.89}, {\"Sub-Category\": \"Binders\", \"Region\": \"Central\", \"total_Profit\": -1043.64}, {\"Sub-Category\": \"Paper\", \"Region\": \"East\", \"total_Profit\": 9015.37}, {\"Sub-Category\": \"Supplies\", \"Region\": \"South\", \"total_Profit\": 1.88}, {\"Sub-Category\": \"Furnishings\", \"Region\": \"East\", \"total_Profit\": 5881.41}, {\"Sub-Category\": \"Labels\", \"Region\": \"West\", \"total_Profit\": 2303.12}, {\"Sub-Category\": \"Fasteners\", \"Region\": \"West\", \"total_Profit\": 275.19}, {\"Sub-Category\": \"Envelopes\", \"Region\": \"South\", \"total_Profit\": 1465.48}, {\"Sub-Category\": \"Tables\", \"Region\": \"Central\", \"total_Profit\": -3559.65}, {\"Sub-Category\": \"Machines\", \"Region\": \"East\", \"total_Profit\": 6928.64}, {\"Sub-Category\": \"Art\", \"Region\": \"East\", \"total_Profit\": 1899.94}, {\"Sub-Category\": \"Appliances\", \"Region\": \"West\", \"total_Profit\": 8261.27}, {\"Sub-Category\": \"Fasteners\", \"Region\": \"South\", \"total_Profit\": 173.72}, {\"Sub-Category\": \"Paper\", \"Region\": \"West\", \"total_Profit\": 12119.24}, {\"Sub-Category\": \"Furnishings\", \"Region\": \"Central\", \"total_Profit\": -3906.22}, {\"Sub-Category\": \"Chairs\", \"Region\": \"West\", \"total_Profit\": 4027.58}, {\"Sub-Category\": \"Binders\", \"Region\": \"South\", \"total_Profit\": 3900.66}, {\"Sub-Category\": \"Supplies\", \"Region\": \"West\", \"total_Profit\": 626.05}, {\"Sub-Category\": \"Labels\", \"Region\": \"East\", \"total_Profit\": 1129.28}, {\"Sub-Category\": \"Fasteners\", \"Region\": \"East\", \"total_Profit\": 263.99}, {\"Sub-Category\": \"Appliances\", \"Region\": \"Central\", \"total_Profit\": -2638.62}, {\"Sub-Category\": \"Labels\", \"Region\": \"South\", \"total_Profit\": 1040.77}, {\"Sub-Category\": \"Copiers\", \"Region\": \"South\", \"total_Profit\": 3658.91}, {\"Sub-Category\": \"Binders\", \"Region\": \"West\", \"total_Profit\": 16096.8}, {\"Sub-Category\": \"Binders\", \"Region\": \"East\", \"total_Profit\": 11267.93}, {\"Sub-Category\": \"Accessories\", \"Region\": \"Central\", \"total_Profit\": 7251.63}, {\"Sub-Category\": \"Storage\", \"Region\": \"East\", \"total_Profit\": 8389.37}, {\"Sub-Category\": \"Art\", \"Region\": \"South\", \"total_Profit\": 1058.59}, {\"Sub-Category\": \"Envelopes\", \"Region\": \"West\", \"total_Profit\": 1908.76}, {\"Sub-Category\": \"Bookcases\", \"Region\": \"West\", \"total_Profit\": -1646.51}, {\"Sub-Category\": \"Furnishings\", \"Region\": \"South\", \"total_Profit\": 3442.68}, {\"Sub-Category\": \"Labels\", \"Region\": \"Central\", \"total_Profit\": 1073.08}, {\"Sub-Category\": \"Accessories\", \"Region\": \"East\", \"total_Profit\": 11195.86}, {\"Sub-Category\": \"Tables\", \"Region\": \"South\", \"total_Profit\": -4623.06}, {\"Sub-Category\": \"Art\", \"Region\": \"West\", \"total_Profit\": 2374.1}, {\"Sub-Category\": \"Copiers\", \"Region\": \"East\", \"total_Profit\": 17022.84}, {\"Sub-Category\": \"Phones\", \"Region\": \"South\", \"total_Profit\": 10767.28}, {\"Sub-Category\": \"Paper\", \"Region\": \"South\", \"total_Profit\": 5947.06}, {\"Sub-Category\": \"Fasteners\", \"Region\": \"Central\", \"total_Profit\": 236.62}, {\"Sub-Category\": \"Envelopes\", \"Region\": \"East\", \"total_Profit\": 1812.41}]}}, {\"mode\": \"vega-lite\"});\n",
       "</script>"
      ],
      "text/plain": [
       "alt.Chart(...)"
      ]
     },
     "execution_count": 27,
     "metadata": {},
     "output_type": "execute_result"
    }
   ],
   "source": [
    "chart"
   ]
  },
  {
   "cell_type": "markdown",
   "metadata": {},
   "source": [
    "# Monthly order profit\n"
   ]
  },
  {
   "cell_type": "code",
   "execution_count": 30,
   "metadata": {},
   "outputs": [],
   "source": [
    "c = (\n",
    "    df.group_by(\n",
    "        pl.date(\n",
    "            pl.col(\"Order Date\").dt.year(), pl.col(\"Order Date\").dt.month(), 1\n",
    "        ).alias(\"order_month\")\n",
    "    )\n",
    "    .agg(pl.col(\"Profit\").sum().round(2).alias(\"total_profit\"))\n",
    "    .sort(pl.col(\"order_month\"))\n",
    ")"
   ]
  },
  {
   "cell_type": "code",
   "execution_count": 31,
   "metadata": {},
   "outputs": [
    {
     "data": {
      "text/html": [
       "<div><style>\n",
       ".dataframe > thead > tr,\n",
       ".dataframe > tbody > tr {\n",
       "  text-align: right;\n",
       "  white-space: pre-wrap;\n",
       "}\n",
       "</style>\n",
       "<small>shape: (48, 2)</small><table border=\"1\" class=\"dataframe\"><thead><tr><th>order_month</th><th>total_profit</th></tr><tr><td>date</td><td>f64</td></tr></thead><tbody><tr><td>2014-01-01</td><td>2450.19</td></tr><tr><td>2014-02-01</td><td>862.31</td></tr><tr><td>2014-03-01</td><td>498.73</td></tr><tr><td>2014-04-01</td><td>3488.84</td></tr><tr><td>2014-05-01</td><td>2738.71</td></tr><tr><td>&hellip;</td><td>&hellip;</td></tr><tr><td>2017-08-01</td><td>9040.96</td></tr><tr><td>2017-09-01</td><td>10991.56</td></tr><tr><td>2017-10-01</td><td>9275.28</td></tr><tr><td>2017-11-01</td><td>9690.1</td></tr><tr><td>2017-12-01</td><td>8483.35</td></tr></tbody></table></div>"
      ],
      "text/plain": [
       "shape: (48, 2)\n",
       "┌─────────────┬──────────────┐\n",
       "│ order_month ┆ total_profit │\n",
       "│ ---         ┆ ---          │\n",
       "│ date        ┆ f64          │\n",
       "╞═════════════╪══════════════╡\n",
       "│ 2014-01-01  ┆ 2450.19      │\n",
       "│ 2014-02-01  ┆ 862.31       │\n",
       "│ 2014-03-01  ┆ 498.73       │\n",
       "│ 2014-04-01  ┆ 3488.84      │\n",
       "│ 2014-05-01  ┆ 2738.71      │\n",
       "│ …           ┆ …            │\n",
       "│ 2017-08-01  ┆ 9040.96      │\n",
       "│ 2017-09-01  ┆ 10991.56     │\n",
       "│ 2017-10-01  ┆ 9275.28      │\n",
       "│ 2017-11-01  ┆ 9690.1       │\n",
       "│ 2017-12-01  ┆ 8483.35      │\n",
       "└─────────────┴──────────────┘"
      ]
     },
     "execution_count": 31,
     "metadata": {},
     "output_type": "execute_result"
    }
   ],
   "source": [
    "c"
   ]
  },
  {
   "cell_type": "code",
   "execution_count": 33,
   "metadata": {},
   "outputs": [
    {
     "data": {
      "text/html": [
       "\n",
       "<style>\n",
       "  #altair-viz-27d66ffcbabd4035a7068e3fd517ecd7.vega-embed {\n",
       "    width: 100%;\n",
       "    display: flex;\n",
       "  }\n",
       "\n",
       "  #altair-viz-27d66ffcbabd4035a7068e3fd517ecd7.vega-embed details,\n",
       "  #altair-viz-27d66ffcbabd4035a7068e3fd517ecd7.vega-embed details summary {\n",
       "    position: relative;\n",
       "  }\n",
       "</style>\n",
       "<div id=\"altair-viz-27d66ffcbabd4035a7068e3fd517ecd7\"></div>\n",
       "<script type=\"text/javascript\">\n",
       "  var VEGA_DEBUG = (typeof VEGA_DEBUG == \"undefined\") ? {} : VEGA_DEBUG;\n",
       "  (function(spec, embedOpt){\n",
       "    let outputDiv = document.currentScript.previousElementSibling;\n",
       "    if (outputDiv.id !== \"altair-viz-27d66ffcbabd4035a7068e3fd517ecd7\") {\n",
       "      outputDiv = document.getElementById(\"altair-viz-27d66ffcbabd4035a7068e3fd517ecd7\");\n",
       "    }\n",
       "\n",
       "    const paths = {\n",
       "      \"vega\": \"https://cdn.jsdelivr.net/npm/vega@5?noext\",\n",
       "      \"vega-lib\": \"https://cdn.jsdelivr.net/npm/vega-lib?noext\",\n",
       "      \"vega-lite\": \"https://cdn.jsdelivr.net/npm/vega-lite@5.20.1?noext\",\n",
       "      \"vega-embed\": \"https://cdn.jsdelivr.net/npm/vega-embed@6?noext\",\n",
       "    };\n",
       "\n",
       "    function maybeLoadScript(lib, version) {\n",
       "      var key = `${lib.replace(\"-\", \"\")}_version`;\n",
       "      return (VEGA_DEBUG[key] == version) ?\n",
       "        Promise.resolve(paths[lib]) :\n",
       "        new Promise(function(resolve, reject) {\n",
       "          var s = document.createElement('script');\n",
       "          document.getElementsByTagName(\"head\")[0].appendChild(s);\n",
       "          s.async = true;\n",
       "          s.onload = () => {\n",
       "            VEGA_DEBUG[key] = version;\n",
       "            return resolve(paths[lib]);\n",
       "          };\n",
       "          s.onerror = () => reject(`Error loading script: ${paths[lib]}`);\n",
       "          s.src = paths[lib];\n",
       "        });\n",
       "    }\n",
       "\n",
       "    function showError(err) {\n",
       "      outputDiv.innerHTML = `<div class=\"error\" style=\"color:red;\">${err}</div>`;\n",
       "      throw err;\n",
       "    }\n",
       "\n",
       "    function displayChart(vegaEmbed) {\n",
       "      vegaEmbed(outputDiv, spec, embedOpt)\n",
       "        .catch(err => showError(`Javascript Error: ${err.message}<br>This usually means there's a typo in your chart specification. See the javascript console for the full traceback.`));\n",
       "    }\n",
       "\n",
       "    if(typeof define === \"function\" && define.amd) {\n",
       "      requirejs.config({paths});\n",
       "      let deps = [\"vega-embed\"];\n",
       "      require(deps, displayChart, err => showError(`Error loading script: ${err.message}`));\n",
       "    } else {\n",
       "      maybeLoadScript(\"vega\", \"5\")\n",
       "        .then(() => maybeLoadScript(\"vega-lite\", \"5.20.1\"))\n",
       "        .then(() => maybeLoadScript(\"vega-embed\", \"6\"))\n",
       "        .catch(showError)\n",
       "        .then(() => displayChart(vegaEmbed));\n",
       "    }\n",
       "  })({\"config\": {\"view\": {\"continuousWidth\": 300, \"continuousHeight\": 300}}, \"data\": {\"name\": \"data-8af0cfe106e83931998f5e65bc4ce8ad\"}, \"mark\": {\"type\": \"line\", \"tooltip\": true}, \"encoding\": {\"x\": {\"field\": \"order_month\", \"type\": \"temporal\"}, \"y\": {\"field\": \"total_profit\", \"type\": \"quantitative\"}}, \"height\": 400, \"params\": [{\"name\": \"param_7\", \"select\": {\"type\": \"interval\", \"encodings\": [\"x\", \"y\"]}, \"bind\": \"scales\"}], \"title\": \"Monthly Profit\", \"width\": 800, \"$schema\": \"https://vega.github.io/schema/vega-lite/v5.20.1.json\", \"datasets\": {\"data-8af0cfe106e83931998f5e65bc4ce8ad\": [{\"order_month\": \"2014-01-01T00:00:00\", \"total_profit\": 2450.19}, {\"order_month\": \"2014-02-01T00:00:00\", \"total_profit\": 862.31}, {\"order_month\": \"2014-03-01T00:00:00\", \"total_profit\": 498.73}, {\"order_month\": \"2014-04-01T00:00:00\", \"total_profit\": 3488.84}, {\"order_month\": \"2014-05-01T00:00:00\", \"total_profit\": 2738.71}, {\"order_month\": \"2014-06-01T00:00:00\", \"total_profit\": 4976.52}, {\"order_month\": \"2014-07-01T00:00:00\", \"total_profit\": -841.48}, {\"order_month\": \"2014-08-01T00:00:00\", \"total_profit\": 5318.11}, {\"order_month\": \"2014-09-01T00:00:00\", \"total_profit\": 8328.1}, {\"order_month\": \"2014-10-01T00:00:00\", \"total_profit\": 3448.26}, {\"order_month\": \"2014-11-01T00:00:00\", \"total_profit\": 9292.13}, {\"order_month\": \"2014-12-01T00:00:00\", \"total_profit\": 8983.57}, {\"order_month\": \"2015-01-01T00:00:00\", \"total_profit\": -3281.01}, {\"order_month\": \"2015-02-01T00:00:00\", \"total_profit\": 2813.85}, {\"order_month\": \"2015-03-01T00:00:00\", \"total_profit\": 9732.1}, {\"order_month\": \"2015-04-01T00:00:00\", \"total_profit\": 4187.5}, {\"order_month\": \"2015-05-01T00:00:00\", \"total_profit\": 4667.87}, {\"order_month\": \"2015-06-01T00:00:00\", \"total_profit\": 3335.56}, {\"order_month\": \"2015-07-01T00:00:00\", \"total_profit\": 3288.65}, {\"order_month\": \"2015-08-01T00:00:00\", \"total_profit\": 5355.81}, {\"order_month\": \"2015-09-01T00:00:00\", \"total_profit\": 8209.16}, {\"order_month\": \"2015-10-01T00:00:00\", \"total_profit\": 2817.37}, {\"order_month\": \"2015-11-01T00:00:00\", \"total_profit\": 12474.79}, {\"order_month\": \"2015-12-01T00:00:00\", \"total_profit\": 8016.97}, {\"order_month\": \"2016-01-01T00:00:00\", \"total_profit\": 2824.82}, {\"order_month\": \"2016-02-01T00:00:00\", \"total_profit\": 5004.58}, {\"order_month\": \"2016-03-01T00:00:00\", \"total_profit\": 3611.97}, {\"order_month\": \"2016-04-01T00:00:00\", \"total_profit\": 2977.81}, {\"order_month\": \"2016-05-01T00:00:00\", \"total_profit\": 8662.15}, {\"order_month\": \"2016-06-01T00:00:00\", \"total_profit\": 4750.38}, {\"order_month\": \"2016-07-01T00:00:00\", \"total_profit\": 4432.88}, {\"order_month\": \"2016-08-01T00:00:00\", \"total_profit\": 2062.07}, {\"order_month\": \"2016-09-01T00:00:00\", \"total_profit\": 9328.66}, {\"order_month\": \"2016-10-01T00:00:00\", \"total_profit\": 16243.14}, {\"order_month\": \"2016-11-01T00:00:00\", \"total_profit\": 4011.41}, {\"order_month\": \"2016-12-01T00:00:00\", \"total_profit\": 17885.31}, {\"order_month\": \"2017-01-01T00:00:00\", \"total_profit\": 7140.44}, {\"order_month\": \"2017-02-01T00:00:00\", \"total_profit\": 1613.87}, {\"order_month\": \"2017-03-01T00:00:00\", \"total_profit\": 14751.89}, {\"order_month\": \"2017-04-01T00:00:00\", \"total_profit\": 933.29}, {\"order_month\": \"2017-05-01T00:00:00\", \"total_profit\": 6342.58}, {\"order_month\": \"2017-06-01T00:00:00\", \"total_profit\": 8223.34}, {\"order_month\": \"2017-07-01T00:00:00\", \"total_profit\": 6952.62}, {\"order_month\": \"2017-08-01T00:00:00\", \"total_profit\": 9040.96}, {\"order_month\": \"2017-09-01T00:00:00\", \"total_profit\": 10991.56}, {\"order_month\": \"2017-10-01T00:00:00\", \"total_profit\": 9275.28}, {\"order_month\": \"2017-11-01T00:00:00\", \"total_profit\": 9690.1}, {\"order_month\": \"2017-12-01T00:00:00\", \"total_profit\": 8483.35}]}}, {\"mode\": \"vega-lite\"});\n",
       "</script>"
      ],
      "text/plain": [
       "alt.Chart(...)"
      ]
     },
     "execution_count": 33,
     "metadata": {},
     "output_type": "execute_result"
    }
   ],
   "source": [
    "c.plot.line(x=\"order_month\", y=\"total_profit\").properties(\n",
    "    width=800, height=400, title=\"Monthly Profit\"\n",
    ")"
   ]
  },
  {
   "cell_type": "code",
   "execution_count": null,
   "metadata": {},
   "outputs": [],
   "source": []
  }
 ],
 "metadata": {
  "kernelspec": {
   "display_name": "venv",
   "language": "python",
   "name": "python3"
  },
  "language_info": {
   "codemirror_mode": {
    "name": "ipython",
    "version": 3
   },
   "file_extension": ".py",
   "mimetype": "text/x-python",
   "name": "python",
   "nbconvert_exporter": "python",
   "pygments_lexer": "ipython3",
   "version": "3.13.2"
  }
 },
 "nbformat": 4,
 "nbformat_minor": 2
}
