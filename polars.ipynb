{
 "cells": [
  {
   "cell_type": "markdown",
   "metadata": {},
   "source": [
    "# Polars Library Python for data analysis"
   ]
  },
  {
   "cell_type": "markdown",
   "metadata": {},
   "source": [
    "### Reading Excel file"
   ]
  },
  {
   "cell_type": "code",
   "execution_count": 1,
   "metadata": {},
   "outputs": [],
   "source": [
    "import polars as pl"
   ]
  },
  {
   "cell_type": "code",
   "execution_count": 2,
   "metadata": {},
   "outputs": [
    {
     "data": {
      "text/html": [
       "<div><style>\n",
       ".dataframe > thead > tr,\n",
       ".dataframe > tbody > tr {\n",
       "  text-align: right;\n",
       "  white-space: pre-wrap;\n",
       "}\n",
       "</style>\n",
       "<small>shape: (5, 21)</small><table border=\"1\" class=\"dataframe\"><thead><tr><th>Row ID</th><th>Order ID</th><th>Order Date</th><th>Ship Date</th><th>Ship Mode</th><th>Customer ID</th><th>Customer Name</th><th>Segment</th><th>Country</th><th>City</th><th>State</th><th>Postal Code</th><th>Region</th><th>Product ID</th><th>Category</th><th>Sub-Category</th><th>Product Name</th><th>Sales</th><th>Quantity</th><th>Discount</th><th>Profit</th></tr><tr><td>i64</td><td>str</td><td>date</td><td>date</td><td>str</td><td>str</td><td>str</td><td>str</td><td>str</td><td>str</td><td>str</td><td>i64</td><td>str</td><td>str</td><td>str</td><td>str</td><td>str</td><td>f64</td><td>i64</td><td>f64</td><td>f64</td></tr></thead><tbody><tr><td>1</td><td>&quot;CA-2016-152156&quot;</td><td>2016-11-08</td><td>2016-11-11</td><td>&quot;Second Class&quot;</td><td>&quot;CG-12520&quot;</td><td>&quot;Claire Gute&quot;</td><td>&quot;Consumer&quot;</td><td>&quot;United States&quot;</td><td>&quot;Henderson&quot;</td><td>&quot;Kentucky&quot;</td><td>42420</td><td>&quot;South&quot;</td><td>&quot;FUR-BO-10001798&quot;</td><td>&quot;Furniture&quot;</td><td>&quot;Bookcases&quot;</td><td>&quot;Bush Somerset Collection Bookc…</td><td>261.96</td><td>2</td><td>0.0</td><td>41.9136</td></tr><tr><td>2</td><td>&quot;CA-2016-152156&quot;</td><td>2016-11-08</td><td>2016-11-11</td><td>&quot;Second Class&quot;</td><td>&quot;CG-12520&quot;</td><td>&quot;Claire Gute&quot;</td><td>&quot;Consumer&quot;</td><td>&quot;United States&quot;</td><td>&quot;Henderson&quot;</td><td>&quot;Kentucky&quot;</td><td>42420</td><td>&quot;South&quot;</td><td>&quot;FUR-CH-10000454&quot;</td><td>&quot;Furniture&quot;</td><td>&quot;Chairs&quot;</td><td>&quot;Hon Deluxe Fabric Upholstered …</td><td>731.94</td><td>3</td><td>0.0</td><td>219.582</td></tr><tr><td>3</td><td>&quot;CA-2016-138688&quot;</td><td>2016-06-12</td><td>2016-06-16</td><td>&quot;Second Class&quot;</td><td>&quot;DV-13045&quot;</td><td>&quot;Darrin Van Huff&quot;</td><td>&quot;Corporate&quot;</td><td>&quot;United States&quot;</td><td>&quot;Los Angeles&quot;</td><td>&quot;California&quot;</td><td>90036</td><td>&quot;West&quot;</td><td>&quot;OFF-LA-10000240&quot;</td><td>&quot;Office Supplies&quot;</td><td>&quot;Labels&quot;</td><td>&quot;Self-Adhesive Address Labels f…</td><td>14.62</td><td>2</td><td>0.0</td><td>6.8714</td></tr><tr><td>4</td><td>&quot;US-2015-108966&quot;</td><td>2015-10-11</td><td>2015-10-18</td><td>&quot;Standard Class&quot;</td><td>&quot;SO-20335&quot;</td><td>&quot;Sean O&#x27;Donnell&quot;</td><td>&quot;Consumer&quot;</td><td>&quot;United States&quot;</td><td>&quot;Fort Lauderdale&quot;</td><td>&quot;Florida&quot;</td><td>33311</td><td>&quot;South&quot;</td><td>&quot;FUR-TA-10000577&quot;</td><td>&quot;Furniture&quot;</td><td>&quot;Tables&quot;</td><td>&quot;Bretford CR4500 Series Slim Re…</td><td>957.5775</td><td>5</td><td>0.45</td><td>-383.031</td></tr><tr><td>5</td><td>&quot;US-2015-108966&quot;</td><td>2015-10-11</td><td>2015-10-18</td><td>&quot;Standard Class&quot;</td><td>&quot;SO-20335&quot;</td><td>&quot;Sean O&#x27;Donnell&quot;</td><td>&quot;Consumer&quot;</td><td>&quot;United States&quot;</td><td>&quot;Fort Lauderdale&quot;</td><td>&quot;Florida&quot;</td><td>33311</td><td>&quot;South&quot;</td><td>&quot;OFF-ST-10000760&quot;</td><td>&quot;Office Supplies&quot;</td><td>&quot;Storage&quot;</td><td>&quot;Eldon Fold &#x27;N Roll Cart System&quot;</td><td>22.368</td><td>2</td><td>0.2</td><td>2.5164</td></tr></tbody></table></div>"
      ],
      "text/plain": [
       "shape: (5, 21)\n",
       "┌────────┬───────────────┬────────────┬────────────┬───┬──────────┬──────────┬──────────┬──────────┐\n",
       "│ Row ID ┆ Order ID      ┆ Order Date ┆ Ship Date  ┆ … ┆ Sales    ┆ Quantity ┆ Discount ┆ Profit   │\n",
       "│ ---    ┆ ---           ┆ ---        ┆ ---        ┆   ┆ ---      ┆ ---      ┆ ---      ┆ ---      │\n",
       "│ i64    ┆ str           ┆ date       ┆ date       ┆   ┆ f64      ┆ i64      ┆ f64      ┆ f64      │\n",
       "╞════════╪═══════════════╪════════════╪════════════╪═══╪══════════╪══════════╪══════════╪══════════╡\n",
       "│ 1      ┆ CA-2016-15215 ┆ 2016-11-08 ┆ 2016-11-11 ┆ … ┆ 261.96   ┆ 2        ┆ 0.0      ┆ 41.9136  │\n",
       "│        ┆ 6             ┆            ┆            ┆   ┆          ┆          ┆          ┆          │\n",
       "│ 2      ┆ CA-2016-15215 ┆ 2016-11-08 ┆ 2016-11-11 ┆ … ┆ 731.94   ┆ 3        ┆ 0.0      ┆ 219.582  │\n",
       "│        ┆ 6             ┆            ┆            ┆   ┆          ┆          ┆          ┆          │\n",
       "│ 3      ┆ CA-2016-13868 ┆ 2016-06-12 ┆ 2016-06-16 ┆ … ┆ 14.62    ┆ 2        ┆ 0.0      ┆ 6.8714   │\n",
       "│        ┆ 8             ┆            ┆            ┆   ┆          ┆          ┆          ┆          │\n",
       "│ 4      ┆ US-2015-10896 ┆ 2015-10-11 ┆ 2015-10-18 ┆ … ┆ 957.5775 ┆ 5        ┆ 0.45     ┆ -383.031 │\n",
       "│        ┆ 6             ┆            ┆            ┆   ┆          ┆          ┆          ┆          │\n",
       "│ 5      ┆ US-2015-10896 ┆ 2015-10-11 ┆ 2015-10-18 ┆ … ┆ 22.368   ┆ 2        ┆ 0.2      ┆ 2.5164   │\n",
       "│        ┆ 6             ┆            ┆            ┆   ┆          ┆          ┆          ┆          │\n",
       "└────────┴───────────────┴────────────┴────────────┴───┴──────────┴──────────┴──────────┴──────────┘"
      ]
     },
     "execution_count": 2,
     "metadata": {},
     "output_type": "execute_result"
    }
   ],
   "source": [
    "df = pl.read_excel(\"Sample - Superstore.xls\", sheet_name=\"Orders\")\n",
    "df.head()"
   ]
  },
  {
   "cell_type": "code",
   "execution_count": 3,
   "metadata": {},
   "outputs": [
    {
     "data": {
      "text/plain": [
       "Schema([('Row ID', Int64),\n",
       "        ('Order ID', String),\n",
       "        ('Order Date', Date),\n",
       "        ('Ship Date', Date),\n",
       "        ('Ship Mode', String),\n",
       "        ('Customer ID', String),\n",
       "        ('Customer Name', String),\n",
       "        ('Segment', String),\n",
       "        ('Country', String),\n",
       "        ('City', String),\n",
       "        ('State', String),\n",
       "        ('Postal Code', Int64),\n",
       "        ('Region', String),\n",
       "        ('Product ID', String),\n",
       "        ('Category', String),\n",
       "        ('Sub-Category', String),\n",
       "        ('Product Name', String),\n",
       "        ('Sales', Float64),\n",
       "        ('Quantity', Int64),\n",
       "        ('Discount', Float64),\n",
       "        ('Profit', Float64)])"
      ]
     },
     "execution_count": 3,
     "metadata": {},
     "output_type": "execute_result"
    }
   ],
   "source": [
    "df.schema"
   ]
  },
  {
   "cell_type": "markdown",
   "metadata": {},
   "source": [
    "### Monthly profit"
   ]
  },
  {
   "cell_type": "code",
   "execution_count": 4,
   "metadata": {},
   "outputs": [],
   "source": [
    "a = (\n",
    "    df.group_by(\n",
    "        pl.col(\"Order Date\").dt.year().alias(\"order_year\"),\n",
    "        pl.col(\"Order Date\").dt.month().alias(\"order_month\"),\n",
    "    )\n",
    "    .agg(pl.col(\"Profit\").sum().round(2).alias(\"total_profit\"))\n",
    "    .sort([pl.col(\"order_year\"), pl.col(\"order_month\")])\n",
    ")"
   ]
  },
  {
   "cell_type": "code",
   "execution_count": 5,
   "metadata": {},
   "outputs": [
    {
     "data": {
      "text/html": [
       "<div><style>\n",
       ".dataframe > thead > tr,\n",
       ".dataframe > tbody > tr {\n",
       "  text-align: right;\n",
       "  white-space: pre-wrap;\n",
       "}\n",
       "</style>\n",
       "<small>shape: (48, 3)</small><table border=\"1\" class=\"dataframe\"><thead><tr><th>order_year</th><th>order_month</th><th>total_profit</th></tr><tr><td>i32</td><td>i8</td><td>f64</td></tr></thead><tbody><tr><td>2014</td><td>1</td><td>2450.19</td></tr><tr><td>2014</td><td>2</td><td>862.31</td></tr><tr><td>2014</td><td>3</td><td>498.73</td></tr><tr><td>2014</td><td>4</td><td>3488.84</td></tr><tr><td>2014</td><td>5</td><td>2738.71</td></tr><tr><td>&hellip;</td><td>&hellip;</td><td>&hellip;</td></tr><tr><td>2017</td><td>8</td><td>9040.96</td></tr><tr><td>2017</td><td>9</td><td>10991.56</td></tr><tr><td>2017</td><td>10</td><td>9275.28</td></tr><tr><td>2017</td><td>11</td><td>9690.1</td></tr><tr><td>2017</td><td>12</td><td>8483.35</td></tr></tbody></table></div>"
      ],
      "text/plain": [
       "shape: (48, 3)\n",
       "┌────────────┬─────────────┬──────────────┐\n",
       "│ order_year ┆ order_month ┆ total_profit │\n",
       "│ ---        ┆ ---         ┆ ---          │\n",
       "│ i32        ┆ i8          ┆ f64          │\n",
       "╞════════════╪═════════════╪══════════════╡\n",
       "│ 2014       ┆ 1           ┆ 2450.19      │\n",
       "│ 2014       ┆ 2           ┆ 862.31       │\n",
       "│ 2014       ┆ 3           ┆ 498.73       │\n",
       "│ 2014       ┆ 4           ┆ 3488.84      │\n",
       "│ 2014       ┆ 5           ┆ 2738.71      │\n",
       "│ …          ┆ …           ┆ …            │\n",
       "│ 2017       ┆ 8           ┆ 9040.96      │\n",
       "│ 2017       ┆ 9           ┆ 10991.56     │\n",
       "│ 2017       ┆ 10          ┆ 9275.28      │\n",
       "│ 2017       ┆ 11          ┆ 9690.1       │\n",
       "│ 2017       ┆ 12          ┆ 8483.35      │\n",
       "└────────────┴─────────────┴──────────────┘"
      ]
     },
     "execution_count": 5,
     "metadata": {},
     "output_type": "execute_result"
    }
   ],
   "source": [
    "a"
   ]
  },
  {
   "cell_type": "code",
   "execution_count": 6,
   "metadata": {},
   "outputs": [],
   "source": [
    "a.write_csv(\"monthly_profit.csv\")"
   ]
  },
  {
   "cell_type": "code",
   "execution_count": 7,
   "metadata": {},
   "outputs": [],
   "source": [
    "import altair as alt"
   ]
  },
  {
   "cell_type": "code",
   "execution_count": 8,
   "metadata": {},
   "outputs": [
    {
     "data": {
      "text/html": [
       "\n",
       "<style>\n",
       "  #altair-viz-45954ec63bac4d15b792b1183c990f2f.vega-embed {\n",
       "    width: 100%;\n",
       "    display: flex;\n",
       "  }\n",
       "\n",
       "  #altair-viz-45954ec63bac4d15b792b1183c990f2f.vega-embed details,\n",
       "  #altair-viz-45954ec63bac4d15b792b1183c990f2f.vega-embed details summary {\n",
       "    position: relative;\n",
       "  }\n",
       "</style>\n",
       "<div id=\"altair-viz-45954ec63bac4d15b792b1183c990f2f\"></div>\n",
       "<script type=\"text/javascript\">\n",
       "  var VEGA_DEBUG = (typeof VEGA_DEBUG == \"undefined\") ? {} : VEGA_DEBUG;\n",
       "  (function(spec, embedOpt){\n",
       "    let outputDiv = document.currentScript.previousElementSibling;\n",
       "    if (outputDiv.id !== \"altair-viz-45954ec63bac4d15b792b1183c990f2f\") {\n",
       "      outputDiv = document.getElementById(\"altair-viz-45954ec63bac4d15b792b1183c990f2f\");\n",
       "    }\n",
       "\n",
       "    const paths = {\n",
       "      \"vega\": \"https://cdn.jsdelivr.net/npm/vega@5?noext\",\n",
       "      \"vega-lib\": \"https://cdn.jsdelivr.net/npm/vega-lib?noext\",\n",
       "      \"vega-lite\": \"https://cdn.jsdelivr.net/npm/vega-lite@5.20.1?noext\",\n",
       "      \"vega-embed\": \"https://cdn.jsdelivr.net/npm/vega-embed@6?noext\",\n",
       "    };\n",
       "\n",
       "    function maybeLoadScript(lib, version) {\n",
       "      var key = `${lib.replace(\"-\", \"\")}_version`;\n",
       "      return (VEGA_DEBUG[key] == version) ?\n",
       "        Promise.resolve(paths[lib]) :\n",
       "        new Promise(function(resolve, reject) {\n",
       "          var s = document.createElement('script');\n",
       "          document.getElementsByTagName(\"head\")[0].appendChild(s);\n",
       "          s.async = true;\n",
       "          s.onload = () => {\n",
       "            VEGA_DEBUG[key] = version;\n",
       "            return resolve(paths[lib]);\n",
       "          };\n",
       "          s.onerror = () => reject(`Error loading script: ${paths[lib]}`);\n",
       "          s.src = paths[lib];\n",
       "        });\n",
       "    }\n",
       "\n",
       "    function showError(err) {\n",
       "      outputDiv.innerHTML = `<div class=\"error\" style=\"color:red;\">${err}</div>`;\n",
       "      throw err;\n",
       "    }\n",
       "\n",
       "    function displayChart(vegaEmbed) {\n",
       "      vegaEmbed(outputDiv, spec, embedOpt)\n",
       "        .catch(err => showError(`Javascript Error: ${err.message}<br>This usually means there's a typo in your chart specification. See the javascript console for the full traceback.`));\n",
       "    }\n",
       "\n",
       "    if(typeof define === \"function\" && define.amd) {\n",
       "      requirejs.config({paths});\n",
       "      let deps = [\"vega-embed\"];\n",
       "      require(deps, displayChart, err => showError(`Error loading script: ${err.message}`));\n",
       "    } else {\n",
       "      maybeLoadScript(\"vega\", \"5\")\n",
       "        .then(() => maybeLoadScript(\"vega-lite\", \"5.20.1\"))\n",
       "        .then(() => maybeLoadScript(\"vega-embed\", \"6\"))\n",
       "        .catch(showError)\n",
       "        .then(() => displayChart(vegaEmbed));\n",
       "    }\n",
       "  })({\"config\": {\"view\": {\"continuousWidth\": 300, \"continuousHeight\": 300}}, \"data\": {\"name\": \"data-9c299db39fb4b7f08791e56c5029aadb\"}, \"mark\": {\"type\": \"line\", \"tooltip\": true}, \"encoding\": {\"color\": {\"field\": \"order_year\", \"legend\": {\"title\": \"Year\"}, \"scale\": {\"scheme\": \"category10\"}, \"type\": \"nominal\"}, \"x\": {\"field\": \"order_month\", \"type\": \"quantitative\"}, \"y\": {\"field\": \"total_profit\", \"type\": \"quantitative\"}}, \"height\": 600, \"params\": [{\"name\": \"param_1\", \"select\": {\"type\": \"interval\", \"encodings\": [\"x\", \"y\"]}, \"bind\": \"scales\"}], \"width\": 1000, \"$schema\": \"https://vega.github.io/schema/vega-lite/v5.20.1.json\", \"datasets\": {\"data-9c299db39fb4b7f08791e56c5029aadb\": [{\"order_year\": 2014, \"order_month\": 1, \"total_profit\": 2450.19}, {\"order_year\": 2014, \"order_month\": 2, \"total_profit\": 862.31}, {\"order_year\": 2014, \"order_month\": 3, \"total_profit\": 498.73}, {\"order_year\": 2014, \"order_month\": 4, \"total_profit\": 3488.84}, {\"order_year\": 2014, \"order_month\": 5, \"total_profit\": 2738.71}, {\"order_year\": 2014, \"order_month\": 6, \"total_profit\": 4976.52}, {\"order_year\": 2014, \"order_month\": 7, \"total_profit\": -841.48}, {\"order_year\": 2014, \"order_month\": 8, \"total_profit\": 5318.11}, {\"order_year\": 2014, \"order_month\": 9, \"total_profit\": 8328.1}, {\"order_year\": 2014, \"order_month\": 10, \"total_profit\": 3448.26}, {\"order_year\": 2014, \"order_month\": 11, \"total_profit\": 9292.13}, {\"order_year\": 2014, \"order_month\": 12, \"total_profit\": 8983.57}, {\"order_year\": 2015, \"order_month\": 1, \"total_profit\": -3281.01}, {\"order_year\": 2015, \"order_month\": 2, \"total_profit\": 2813.85}, {\"order_year\": 2015, \"order_month\": 3, \"total_profit\": 9732.1}, {\"order_year\": 2015, \"order_month\": 4, \"total_profit\": 4187.5}, {\"order_year\": 2015, \"order_month\": 5, \"total_profit\": 4667.87}, {\"order_year\": 2015, \"order_month\": 6, \"total_profit\": 3335.56}, {\"order_year\": 2015, \"order_month\": 7, \"total_profit\": 3288.65}, {\"order_year\": 2015, \"order_month\": 8, \"total_profit\": 5355.81}, {\"order_year\": 2015, \"order_month\": 9, \"total_profit\": 8209.16}, {\"order_year\": 2015, \"order_month\": 10, \"total_profit\": 2817.37}, {\"order_year\": 2015, \"order_month\": 11, \"total_profit\": 12474.79}, {\"order_year\": 2015, \"order_month\": 12, \"total_profit\": 8016.97}, {\"order_year\": 2016, \"order_month\": 1, \"total_profit\": 2824.82}, {\"order_year\": 2016, \"order_month\": 2, \"total_profit\": 5004.58}, {\"order_year\": 2016, \"order_month\": 3, \"total_profit\": 3611.97}, {\"order_year\": 2016, \"order_month\": 4, \"total_profit\": 2977.81}, {\"order_year\": 2016, \"order_month\": 5, \"total_profit\": 8662.15}, {\"order_year\": 2016, \"order_month\": 6, \"total_profit\": 4750.38}, {\"order_year\": 2016, \"order_month\": 7, \"total_profit\": 4432.88}, {\"order_year\": 2016, \"order_month\": 8, \"total_profit\": 2062.07}, {\"order_year\": 2016, \"order_month\": 9, \"total_profit\": 9328.66}, {\"order_year\": 2016, \"order_month\": 10, \"total_profit\": 16243.14}, {\"order_year\": 2016, \"order_month\": 11, \"total_profit\": 4011.41}, {\"order_year\": 2016, \"order_month\": 12, \"total_profit\": 17885.31}, {\"order_year\": 2017, \"order_month\": 1, \"total_profit\": 7140.44}, {\"order_year\": 2017, \"order_month\": 2, \"total_profit\": 1613.87}, {\"order_year\": 2017, \"order_month\": 3, \"total_profit\": 14751.89}, {\"order_year\": 2017, \"order_month\": 4, \"total_profit\": 933.29}, {\"order_year\": 2017, \"order_month\": 5, \"total_profit\": 6342.58}, {\"order_year\": 2017, \"order_month\": 6, \"total_profit\": 8223.34}, {\"order_year\": 2017, \"order_month\": 7, \"total_profit\": 6952.62}, {\"order_year\": 2017, \"order_month\": 8, \"total_profit\": 9040.96}, {\"order_year\": 2017, \"order_month\": 9, \"total_profit\": 10991.56}, {\"order_year\": 2017, \"order_month\": 10, \"total_profit\": 9275.28}, {\"order_year\": 2017, \"order_month\": 11, \"total_profit\": 9690.1}, {\"order_year\": 2017, \"order_month\": 12, \"total_profit\": 8483.35}]}}, {\"mode\": \"vega-lite\"});\n",
       "</script>"
      ],
      "text/plain": [
       "alt.Chart(...)"
      ]
     },
     "execution_count": 8,
     "metadata": {},
     "output_type": "execute_result"
    }
   ],
   "source": [
    "a.plot.line(\n",
    "    x=\"order_month\",\n",
    "    y=\"total_profit\",\n",
    "    color=alt.Color(\n",
    "        \"order_year:N\",\n",
    "        scale=alt.Scale(scheme=\"category10\"),\n",
    "        legend=alt.Legend(title=\"Year\"),\n",
    "    ),\n",
    ").properties(width=1000, height=600)"
   ]
  },
  {
   "cell_type": "markdown",
   "metadata": {},
   "source": [
    "# Top 5 states with most profit"
   ]
  },
  {
   "cell_type": "code",
   "execution_count": 10,
   "metadata": {},
   "outputs": [],
   "source": [
    "b = (\n",
    "    df.group_by(pl.col(\"State\"))\n",
    "    .agg(pl.col(\"Profit\").sum().round(2).alias(\"total_profit\"))\n",
    "    .sort(pl.col(\"total_profit\"), descending=True)\n",
    "    .head()\n",
    ")"
   ]
  },
  {
   "cell_type": "code",
   "execution_count": 11,
   "metadata": {},
   "outputs": [
    {
     "data": {
      "text/html": [
       "<div><style>\n",
       ".dataframe > thead > tr,\n",
       ".dataframe > tbody > tr {\n",
       "  text-align: right;\n",
       "  white-space: pre-wrap;\n",
       "}\n",
       "</style>\n",
       "<small>shape: (5, 2)</small><table border=\"1\" class=\"dataframe\"><thead><tr><th>State</th><th>total_profit</th></tr><tr><td>str</td><td>f64</td></tr></thead><tbody><tr><td>&quot;California&quot;</td><td>76381.39</td></tr><tr><td>&quot;New York&quot;</td><td>74038.55</td></tr><tr><td>&quot;Washington&quot;</td><td>33402.65</td></tr><tr><td>&quot;Michigan&quot;</td><td>24463.19</td></tr><tr><td>&quot;Virginia&quot;</td><td>18597.95</td></tr></tbody></table></div>"
      ],
      "text/plain": [
       "shape: (5, 2)\n",
       "┌────────────┬──────────────┐\n",
       "│ State      ┆ total_profit │\n",
       "│ ---        ┆ ---          │\n",
       "│ str        ┆ f64          │\n",
       "╞════════════╪══════════════╡\n",
       "│ California ┆ 76381.39     │\n",
       "│ New York   ┆ 74038.55     │\n",
       "│ Washington ┆ 33402.65     │\n",
       "│ Michigan   ┆ 24463.19     │\n",
       "│ Virginia   ┆ 18597.95     │\n",
       "└────────────┴──────────────┘"
      ]
     },
     "execution_count": 11,
     "metadata": {},
     "output_type": "execute_result"
    }
   ],
   "source": [
    "b"
   ]
  },
  {
   "cell_type": "code",
   "execution_count": 18,
   "metadata": {},
   "outputs": [
    {
     "data": {
      "text/html": [
       "\n",
       "<style>\n",
       "  #altair-viz-7a44f32162214032a2c4235478e5c87b.vega-embed {\n",
       "    width: 100%;\n",
       "    display: flex;\n",
       "  }\n",
       "\n",
       "  #altair-viz-7a44f32162214032a2c4235478e5c87b.vega-embed details,\n",
       "  #altair-viz-7a44f32162214032a2c4235478e5c87b.vega-embed details summary {\n",
       "    position: relative;\n",
       "  }\n",
       "</style>\n",
       "<div id=\"altair-viz-7a44f32162214032a2c4235478e5c87b\"></div>\n",
       "<script type=\"text/javascript\">\n",
       "  var VEGA_DEBUG = (typeof VEGA_DEBUG == \"undefined\") ? {} : VEGA_DEBUG;\n",
       "  (function(spec, embedOpt){\n",
       "    let outputDiv = document.currentScript.previousElementSibling;\n",
       "    if (outputDiv.id !== \"altair-viz-7a44f32162214032a2c4235478e5c87b\") {\n",
       "      outputDiv = document.getElementById(\"altair-viz-7a44f32162214032a2c4235478e5c87b\");\n",
       "    }\n",
       "\n",
       "    const paths = {\n",
       "      \"vega\": \"https://cdn.jsdelivr.net/npm/vega@5?noext\",\n",
       "      \"vega-lib\": \"https://cdn.jsdelivr.net/npm/vega-lib?noext\",\n",
       "      \"vega-lite\": \"https://cdn.jsdelivr.net/npm/vega-lite@5.20.1?noext\",\n",
       "      \"vega-embed\": \"https://cdn.jsdelivr.net/npm/vega-embed@6?noext\",\n",
       "    };\n",
       "\n",
       "    function maybeLoadScript(lib, version) {\n",
       "      var key = `${lib.replace(\"-\", \"\")}_version`;\n",
       "      return (VEGA_DEBUG[key] == version) ?\n",
       "        Promise.resolve(paths[lib]) :\n",
       "        new Promise(function(resolve, reject) {\n",
       "          var s = document.createElement('script');\n",
       "          document.getElementsByTagName(\"head\")[0].appendChild(s);\n",
       "          s.async = true;\n",
       "          s.onload = () => {\n",
       "            VEGA_DEBUG[key] = version;\n",
       "            return resolve(paths[lib]);\n",
       "          };\n",
       "          s.onerror = () => reject(`Error loading script: ${paths[lib]}`);\n",
       "          s.src = paths[lib];\n",
       "        });\n",
       "    }\n",
       "\n",
       "    function showError(err) {\n",
       "      outputDiv.innerHTML = `<div class=\"error\" style=\"color:red;\">${err}</div>`;\n",
       "      throw err;\n",
       "    }\n",
       "\n",
       "    function displayChart(vegaEmbed) {\n",
       "      vegaEmbed(outputDiv, spec, embedOpt)\n",
       "        .catch(err => showError(`Javascript Error: ${err.message}<br>This usually means there's a typo in your chart specification. See the javascript console for the full traceback.`));\n",
       "    }\n",
       "\n",
       "    if(typeof define === \"function\" && define.amd) {\n",
       "      requirejs.config({paths});\n",
       "      let deps = [\"vega-embed\"];\n",
       "      require(deps, displayChart, err => showError(`Error loading script: ${err.message}`));\n",
       "    } else {\n",
       "      maybeLoadScript(\"vega\", \"5\")\n",
       "        .then(() => maybeLoadScript(\"vega-lite\", \"5.20.1\"))\n",
       "        .then(() => maybeLoadScript(\"vega-embed\", \"6\"))\n",
       "        .catch(showError)\n",
       "        .then(() => displayChart(vegaEmbed));\n",
       "    }\n",
       "  })({\"config\": {\"view\": {\"continuousWidth\": 300, \"continuousHeight\": 300}}, \"layer\": [{\"mark\": {\"type\": \"bar\", \"tooltip\": true}, \"encoding\": {\"x\": {\"field\": \"State\", \"sort\": \"-y\", \"type\": \"nominal\"}, \"y\": {\"field\": \"total_profit\", \"type\": \"quantitative\"}}, \"name\": \"view_1\", \"title\": \"Top 5 states by Profit\"}, {\"mark\": {\"type\": \"text\", \"align\": \"center\", \"baseline\": \"bottom\", \"dy\": -5}, \"encoding\": {\"text\": {\"field\": \"total_profit\", \"type\": \"quantitative\"}, \"x\": {\"field\": \"State\", \"sort\": \"-y\", \"type\": \"nominal\"}, \"y\": {\"field\": \"total_profit\", \"type\": \"quantitative\"}}, \"title\": \"Top 5 states by Profit\"}], \"data\": {\"name\": \"data-090d86319e8021ccef80bb0cae879d60\"}, \"height\": 400, \"params\": [{\"name\": \"param_8\", \"select\": {\"type\": \"interval\", \"encodings\": [\"x\", \"y\"]}, \"bind\": \"scales\", \"views\": [\"view_1\"]}], \"width\": 800, \"$schema\": \"https://vega.github.io/schema/vega-lite/v5.20.1.json\", \"datasets\": {\"data-090d86319e8021ccef80bb0cae879d60\": [{\"State\": \"California\", \"total_profit\": 76381.39}, {\"State\": \"New York\", \"total_profit\": 74038.55}, {\"State\": \"Washington\", \"total_profit\": 33402.65}, {\"State\": \"Michigan\", \"total_profit\": 24463.19}, {\"State\": \"Virginia\", \"total_profit\": 18597.95}]}}, {\"mode\": \"vega-lite\"});\n",
       "</script>"
      ],
      "text/plain": [
       "alt.LayerChart(...)"
      ]
     },
     "execution_count": 18,
     "metadata": {},
     "output_type": "execute_result"
    }
   ],
   "source": [
    "# Bar chart\n",
    "bar_chart = b.plot.bar(x=alt.X(\"State\", sort=\"-y\"), y=\"total_profit\").properties(\n",
    "    width=800, height=400, title=\"Top 5 states by Profit\"\n",
    ")\n",
    "\n",
    "# Text labels on top of bars\n",
    "text = bar_chart.mark_text(\n",
    "    align=\"center\", baseline=\"bottom\", dy=-5  # Adjust position above bars\n",
    ").encode(text=\"total_profit\")\n",
    "\n",
    "bar_chart + text"
   ]
  },
  {
   "cell_type": "code",
   "execution_count": null,
   "metadata": {},
   "outputs": [],
   "source": []
  }
 ],
 "metadata": {
  "kernelspec": {
   "display_name": "venv",
   "language": "python",
   "name": "python3"
  },
  "language_info": {
   "codemirror_mode": {
    "name": "ipython",
    "version": 3
   },
   "file_extension": ".py",
   "mimetype": "text/x-python",
   "name": "python",
   "nbconvert_exporter": "python",
   "pygments_lexer": "ipython3",
   "version": "3.13.2"
  }
 },
 "nbformat": 4,
 "nbformat_minor": 2
}
